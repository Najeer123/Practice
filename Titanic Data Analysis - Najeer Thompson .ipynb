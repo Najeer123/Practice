{
 "cells": [
  {
   "cell_type": "markdown",
   "metadata": {},
   "source": [
    "# Analysis of Titanic Passenger Data \n",
    "\n",
    "This is fundamental study of how to use powerful tools in Data Science in order to import study, visualize and present the raw data in a format that is easy to understand. \n",
    "\n",
    "The data that was used comes from passenger data of survivors of the RMS Titanic (1912). Reference to this data comes from: https://www.kaggle.com/c/titanic/data\n"
   ]
  },
  {
   "cell_type": "code",
   "execution_count": 1,
   "metadata": {},
   "outputs": [],
   "source": [
    "#Importing od modules need in the analysis:\n",
    "import numpy as np\n",
    "import pandas as pd\n",
    "import scipy.stats as stats\n",
    "import matplotlib.pyplot as plt\n",
    "import seaborn as sns"
   ]
  },
  {
   "cell_type": "markdown",
   "metadata": {},
   "source": [
    "## Data importing and cleaning"
   ]
  },
  {
   "cell_type": "code",
   "execution_count": 2,
   "metadata": {},
   "outputs": [],
   "source": [
    "train_titanic = pd.read_csv('../2.01-lab-pandas-titanic/train.csv', delimiter=',')\n",
    "\n",
    "#Set index as PassengerId\n",
    "train_titanic.set_index(['PassengerId'], inplace=True)"
   ]
  },
  {
   "cell_type": "markdown",
   "metadata": {},
   "source": [
    "### Displaying Data"
   ]
  },
  {
   "cell_type": "code",
   "execution_count": 3,
   "metadata": {},
   "outputs": [
    {
     "data": {
      "text/plain": [
       "(891, 11)"
      ]
     },
     "execution_count": 3,
     "metadata": {},
     "output_type": "execute_result"
    }
   ],
   "source": [
    "#Return shape to see how much data is being used at this time\n",
    "train_titanic.shape"
   ]
  },
  {
   "cell_type": "markdown",
   "metadata": {},
   "source": [
    "## B. Looking for missing data set\n"
   ]
  },
  {
   "cell_type": "markdown",
   "metadata": {},
   "source": [
    "#### Importing missingno as a visualization utility to better able to identify the missing datasets. \n"
   ]
  },
  {
   "cell_type": "code",
   "execution_count": 4,
   "metadata": {},
   "outputs": [
    {
     "name": "stdout",
     "output_type": "stream",
     "text": [
      "Requirement already satisfied: quilt in /Users/Shawnie/opt/anaconda3/lib/python3.7/site-packages (2.9.15)\n",
      "Requirement already satisfied: requests>=2.12.4 in /Users/Shawnie/opt/anaconda3/lib/python3.7/site-packages (from quilt) (2.22.0)\n",
      "Requirement already satisfied: appdirs>=1.4.0 in /Users/Shawnie/opt/anaconda3/lib/python3.7/site-packages (from quilt) (1.4.3)\n",
      "Requirement already satisfied: numpy>=1.14.0 in /Users/Shawnie/opt/anaconda3/lib/python3.7/site-packages (from quilt) (1.17.4)\n",
      "Requirement already satisfied: packaging>=16.8 in /Users/Shawnie/opt/anaconda3/lib/python3.7/site-packages (from quilt) (19.2)\n",
      "Requirement already satisfied: xlrd>=1.0.0 in /Users/Shawnie/opt/anaconda3/lib/python3.7/site-packages (from quilt) (1.2.0)\n",
      "Requirement already satisfied: pandas>=0.21.0 in /Users/Shawnie/opt/anaconda3/lib/python3.7/site-packages (from quilt) (0.25.3)\n",
      "Requirement already satisfied: pyyaml>=3.12 in /Users/Shawnie/opt/anaconda3/lib/python3.7/site-packages (from quilt) (5.2)\n",
      "Requirement already satisfied: six>=1.10.0 in /Users/Shawnie/opt/anaconda3/lib/python3.7/site-packages (from quilt) (1.13.0)\n",
      "Requirement already satisfied: pyarrow>=0.9.0 in /Users/Shawnie/opt/anaconda3/lib/python3.7/site-packages (from quilt) (0.15.1)\n",
      "Requirement already satisfied: future>=0.16.0 in /Users/Shawnie/opt/anaconda3/lib/python3.7/site-packages (from quilt) (0.18.2)\n",
      "Requirement already satisfied: tqdm>=4.11.2 in /Users/Shawnie/opt/anaconda3/lib/python3.7/site-packages (from quilt) (4.40.2)\n",
      "Requirement already satisfied: idna<2.9,>=2.5 in /Users/Shawnie/opt/anaconda3/lib/python3.7/site-packages (from requests>=2.12.4->quilt) (2.8)\n",
      "Requirement already satisfied: chardet<3.1.0,>=3.0.2 in /Users/Shawnie/opt/anaconda3/lib/python3.7/site-packages (from requests>=2.12.4->quilt) (3.0.4)\n",
      "Requirement already satisfied: certifi>=2017.4.17 in /Users/Shawnie/opt/anaconda3/lib/python3.7/site-packages (from requests>=2.12.4->quilt) (2019.11.28)\n",
      "Requirement already satisfied: urllib3!=1.25.0,!=1.25.1,<1.26,>=1.21.1 in /Users/Shawnie/opt/anaconda3/lib/python3.7/site-packages (from requests>=2.12.4->quilt) (1.25.7)\n",
      "Requirement already satisfied: pyparsing>=2.0.2 in /Users/Shawnie/opt/anaconda3/lib/python3.7/site-packages (from packaging>=16.8->quilt) (2.4.5)\n",
      "Requirement already satisfied: pytz>=2017.2 in /Users/Shawnie/opt/anaconda3/lib/python3.7/site-packages (from pandas>=0.21.0->quilt) (2019.3)\n",
      "Requirement already satisfied: python-dateutil>=2.6.1 in /Users/Shawnie/opt/anaconda3/lib/python3.7/site-packages (from pandas>=0.21.0->quilt) (2.8.1)\n",
      "Note: you may need to restart the kernel to use updated packages.\n"
     ]
    }
   ],
   "source": [
    "pip install quilt"
   ]
  },
  {
   "cell_type": "code",
   "execution_count": 5,
   "metadata": {},
   "outputs": [
    {
     "name": "stdout",
     "output_type": "stream",
     "text": [
      "Requirement already satisfied: missingno in /Users/Shawnie/opt/anaconda3/lib/python3.7/site-packages (0.4.2)\n",
      "Requirement already satisfied: numpy in /Users/Shawnie/opt/anaconda3/lib/python3.7/site-packages (from missingno) (1.17.4)\n",
      "Requirement already satisfied: seaborn in /Users/Shawnie/opt/anaconda3/lib/python3.7/site-packages (from missingno) (0.9.0)\n",
      "Requirement already satisfied: matplotlib in /Users/Shawnie/opt/anaconda3/lib/python3.7/site-packages (from missingno) (3.1.2)\n",
      "Requirement already satisfied: scipy in /Users/Shawnie/opt/anaconda3/lib/python3.7/site-packages (from missingno) (1.3.1)\n",
      "Requirement already satisfied: pandas>=0.15.2 in /Users/Shawnie/opt/anaconda3/lib/python3.7/site-packages (from seaborn->missingno) (0.25.3)\n",
      "Requirement already satisfied: python-dateutil>=2.1 in /Users/Shawnie/opt/anaconda3/lib/python3.7/site-packages (from matplotlib->missingno) (2.8.1)\n",
      "Requirement already satisfied: cycler>=0.10 in /Users/Shawnie/opt/anaconda3/lib/python3.7/site-packages (from matplotlib->missingno) (0.10.0)\n",
      "Requirement already satisfied: kiwisolver>=1.0.1 in /Users/Shawnie/opt/anaconda3/lib/python3.7/site-packages (from matplotlib->missingno) (1.1.0)\n",
      "Requirement already satisfied: pyparsing!=2.0.4,!=2.1.2,!=2.1.6,>=2.0.1 in /Users/Shawnie/opt/anaconda3/lib/python3.7/site-packages (from matplotlib->missingno) (2.4.5)\n",
      "Requirement already satisfied: pytz>=2017.2 in /Users/Shawnie/opt/anaconda3/lib/python3.7/site-packages (from pandas>=0.15.2->seaborn->missingno) (2019.3)\n",
      "Requirement already satisfied: six>=1.5 in /Users/Shawnie/opt/anaconda3/lib/python3.7/site-packages (from python-dateutil>=2.1->matplotlib->missingno) (1.13.0)\n",
      "Requirement already satisfied: setuptools in /Users/Shawnie/opt/anaconda3/lib/python3.7/site-packages (from kiwisolver>=1.0.1->matplotlib->missingno) (42.0.2.post20191203)\n",
      "Note: you may need to restart the kernel to use updated packages.\n"
     ]
    }
   ],
   "source": [
    "pip install missingno"
   ]
  },
  {
   "cell_type": "code",
   "execution_count": 6,
   "metadata": {},
   "outputs": [
    {
     "name": "stdout",
     "output_type": "stream",
     "text": [
      "<class 'pandas.core.frame.DataFrame'>\n",
      "Int64Index: 891 entries, 1 to 891\n",
      "Data columns (total 11 columns):\n",
      "Survived    891 non-null int64\n",
      "Pclass      891 non-null int64\n",
      "Name        891 non-null object\n",
      "Sex         891 non-null object\n",
      "Age         714 non-null float64\n",
      "SibSp       891 non-null int64\n",
      "Parch       891 non-null int64\n",
      "Ticket      891 non-null object\n",
      "Fare        891 non-null float64\n",
      "Cabin       204 non-null object\n",
      "Embarked    889 non-null object\n",
      "dtypes: float64(2), int64(4), object(5)\n",
      "memory usage: 83.5+ KB\n"
     ]
    }
   ],
   "source": [
    "train_titanic.info()"
   ]
  },
  {
   "cell_type": "markdown",
   "metadata": {},
   "source": [
    "The data upon first examination looks as though there are missing values. it seem as though this data was taken from a sample size. There are other data values that would have been added. \n",
    "\n",
    "Also based on further external research it indicates that `Passengers: 2,435` and `Crew: 892`  which is a `Total: 3,547. `\n",
    "\n",
    "That said the dataset provided is not complete. "
   ]
  },
  {
   "cell_type": "code",
   "execution_count": 7,
   "metadata": {},
   "outputs": [
    {
     "data": {
      "text/html": [
       "<div>\n",
       "<style scoped>\n",
       "    .dataframe tbody tr th:only-of-type {\n",
       "        vertical-align: middle;\n",
       "    }\n",
       "\n",
       "    .dataframe tbody tr th {\n",
       "        vertical-align: top;\n",
       "    }\n",
       "\n",
       "    .dataframe thead th {\n",
       "        text-align: right;\n",
       "    }\n",
       "</style>\n",
       "<table border=\"1\" class=\"dataframe\">\n",
       "  <thead>\n",
       "    <tr style=\"text-align: right;\">\n",
       "      <th></th>\n",
       "      <th>Survived</th>\n",
       "      <th>Pclass</th>\n",
       "      <th>Name</th>\n",
       "      <th>Sex</th>\n",
       "      <th>Age</th>\n",
       "      <th>SibSp</th>\n",
       "      <th>Parch</th>\n",
       "      <th>Ticket</th>\n",
       "      <th>Fare</th>\n",
       "      <th>Cabin</th>\n",
       "      <th>Embarked</th>\n",
       "    </tr>\n",
       "    <tr>\n",
       "      <th>PassengerId</th>\n",
       "      <th></th>\n",
       "      <th></th>\n",
       "      <th></th>\n",
       "      <th></th>\n",
       "      <th></th>\n",
       "      <th></th>\n",
       "      <th></th>\n",
       "      <th></th>\n",
       "      <th></th>\n",
       "      <th></th>\n",
       "      <th></th>\n",
       "    </tr>\n",
       "  </thead>\n",
       "  <tbody>\n",
       "    <tr>\n",
       "      <th>1</th>\n",
       "      <td>0</td>\n",
       "      <td>3</td>\n",
       "      <td>Braund, Mr. Owen Harris</td>\n",
       "      <td>male</td>\n",
       "      <td>22.0</td>\n",
       "      <td>1</td>\n",
       "      <td>0</td>\n",
       "      <td>A/5 21171</td>\n",
       "      <td>7.2500</td>\n",
       "      <td>NaN</td>\n",
       "      <td>S</td>\n",
       "    </tr>\n",
       "    <tr>\n",
       "      <th>2</th>\n",
       "      <td>1</td>\n",
       "      <td>1</td>\n",
       "      <td>Cumings, Mrs. John Bradley (Florence Briggs Th...</td>\n",
       "      <td>female</td>\n",
       "      <td>38.0</td>\n",
       "      <td>1</td>\n",
       "      <td>0</td>\n",
       "      <td>PC 17599</td>\n",
       "      <td>71.2833</td>\n",
       "      <td>C85</td>\n",
       "      <td>C</td>\n",
       "    </tr>\n",
       "    <tr>\n",
       "      <th>3</th>\n",
       "      <td>1</td>\n",
       "      <td>3</td>\n",
       "      <td>Heikkinen, Miss. Laina</td>\n",
       "      <td>female</td>\n",
       "      <td>26.0</td>\n",
       "      <td>0</td>\n",
       "      <td>0</td>\n",
       "      <td>STON/O2. 3101282</td>\n",
       "      <td>7.9250</td>\n",
       "      <td>NaN</td>\n",
       "      <td>S</td>\n",
       "    </tr>\n",
       "    <tr>\n",
       "      <th>4</th>\n",
       "      <td>1</td>\n",
       "      <td>1</td>\n",
       "      <td>Futrelle, Mrs. Jacques Heath (Lily May Peel)</td>\n",
       "      <td>female</td>\n",
       "      <td>35.0</td>\n",
       "      <td>1</td>\n",
       "      <td>0</td>\n",
       "      <td>113803</td>\n",
       "      <td>53.1000</td>\n",
       "      <td>C123</td>\n",
       "      <td>S</td>\n",
       "    </tr>\n",
       "    <tr>\n",
       "      <th>5</th>\n",
       "      <td>0</td>\n",
       "      <td>3</td>\n",
       "      <td>Allen, Mr. William Henry</td>\n",
       "      <td>male</td>\n",
       "      <td>35.0</td>\n",
       "      <td>0</td>\n",
       "      <td>0</td>\n",
       "      <td>373450</td>\n",
       "      <td>8.0500</td>\n",
       "      <td>NaN</td>\n",
       "      <td>S</td>\n",
       "    </tr>\n",
       "  </tbody>\n",
       "</table>\n",
       "</div>"
      ],
      "text/plain": [
       "             Survived  Pclass  \\\n",
       "PassengerId                     \n",
       "1                   0       3   \n",
       "2                   1       1   \n",
       "3                   1       3   \n",
       "4                   1       1   \n",
       "5                   0       3   \n",
       "\n",
       "                                                          Name     Sex   Age  \\\n",
       "PassengerId                                                                    \n",
       "1                                      Braund, Mr. Owen Harris    male  22.0   \n",
       "2            Cumings, Mrs. John Bradley (Florence Briggs Th...  female  38.0   \n",
       "3                                       Heikkinen, Miss. Laina  female  26.0   \n",
       "4                 Futrelle, Mrs. Jacques Heath (Lily May Peel)  female  35.0   \n",
       "5                                     Allen, Mr. William Henry    male  35.0   \n",
       "\n",
       "             SibSp  Parch            Ticket     Fare Cabin Embarked  \n",
       "PassengerId                                                          \n",
       "1                1      0         A/5 21171   7.2500   NaN        S  \n",
       "2                1      0          PC 17599  71.2833   C85        C  \n",
       "3                0      0  STON/O2. 3101282   7.9250   NaN        S  \n",
       "4                1      0            113803  53.1000  C123        S  \n",
       "5                0      0            373450   8.0500   NaN        S  "
      ]
     },
     "execution_count": 7,
     "metadata": {},
     "output_type": "execute_result"
    }
   ],
   "source": [
    "#over viewing th data provided\n",
    "\n",
    "train_titanic.head(5)"
   ]
  },
  {
   "cell_type": "code",
   "execution_count": 8,
   "metadata": {},
   "outputs": [
    {
     "data": {
      "image/png": "[encoded data removed]",
      "text/plain": [
       "<Figure size 1800x720 with 2 Axes>"
      ]
     },
     "metadata": {
      "needs_background": "light"
     },
     "output_type": "display_data"
    }
   ],
   "source": [
    "#imported Missingno to identify and highlight all missing values from columns\n",
    "import missingno as msno\n",
    "%matplotlib inline\n",
    "msno.matrix(train_titanic.sample(250));\n",
    "size = (150)"
   ]
  },
  {
   "cell_type": "markdown",
   "metadata": {},
   "source": []
  },
  {
   "cell_type": "code",
   "execution_count": 9,
   "metadata": {},
   "outputs": [
    {
     "data": {
      "image/png": "[encoded data removed]",
      "text/plain": [
       "<Figure size 1728x720 with 3 Axes>"
      ]
     },
     "metadata": {
      "needs_background": "light"
     },
     "output_type": "display_data"
    }
   ],
   "source": [
    "plt.figure(figsize=(22, 15))\n",
    "msno.bar(train_titanic.sample(250));\n",
    "plt.title('Bar Chart Showing Missing Datasets');"
   ]
  },
  {
   "cell_type": "markdown",
   "metadata": {},
   "source": [
    "> `From first observations two Columns are missing value namely \"Age\" and \"Cabin\" columns.`\n",
    "\n",
    "\n",
    "Also from further examination of the dataset we a re noticing that the columns only speak to the passenger information which would not compensate for the Crew members that were on board the vessel."
   ]
  },
  {
   "cell_type": "code",
   "execution_count": 10,
   "metadata": {},
   "outputs": [
    {
     "data": {
      "text/html": [
       "<div>\n",
       "<style scoped>\n",
       "    .dataframe tbody tr th:only-of-type {\n",
       "        vertical-align: middle;\n",
       "    }\n",
       "\n",
       "    .dataframe tbody tr th {\n",
       "        vertical-align: top;\n",
       "    }\n",
       "\n",
       "    .dataframe thead th {\n",
       "        text-align: right;\n",
       "    }\n",
       "</style>\n",
       "<table border=\"1\" class=\"dataframe\">\n",
       "  <thead>\n",
       "    <tr style=\"text-align: right;\">\n",
       "      <th></th>\n",
       "      <th>Survived</th>\n",
       "      <th>Pclass</th>\n",
       "      <th>Age</th>\n",
       "      <th>SibSp</th>\n",
       "      <th>Parch</th>\n",
       "      <th>Fare</th>\n",
       "    </tr>\n",
       "  </thead>\n",
       "  <tbody>\n",
       "    <tr>\n",
       "      <th>count</th>\n",
       "      <td>891.000000</td>\n",
       "      <td>891.000000</td>\n",
       "      <td>714.000000</td>\n",
       "      <td>891.000000</td>\n",
       "      <td>891.000000</td>\n",
       "      <td>891.000000</td>\n",
       "    </tr>\n",
       "    <tr>\n",
       "      <th>mean</th>\n",
       "      <td>0.383838</td>\n",
       "      <td>2.308642</td>\n",
       "      <td>29.699118</td>\n",
       "      <td>0.523008</td>\n",
       "      <td>0.381594</td>\n",
       "      <td>32.204208</td>\n",
       "    </tr>\n",
       "    <tr>\n",
       "      <th>std</th>\n",
       "      <td>0.486592</td>\n",
       "      <td>0.836071</td>\n",
       "      <td>14.526497</td>\n",
       "      <td>1.102743</td>\n",
       "      <td>0.806057</td>\n",
       "      <td>49.693429</td>\n",
       "    </tr>\n",
       "    <tr>\n",
       "      <th>min</th>\n",
       "      <td>0.000000</td>\n",
       "      <td>1.000000</td>\n",
       "      <td>0.420000</td>\n",
       "      <td>0.000000</td>\n",
       "      <td>0.000000</td>\n",
       "      <td>0.000000</td>\n",
       "    </tr>\n",
       "    <tr>\n",
       "      <th>25%</th>\n",
       "      <td>0.000000</td>\n",
       "      <td>2.000000</td>\n",
       "      <td>20.125000</td>\n",
       "      <td>0.000000</td>\n",
       "      <td>0.000000</td>\n",
       "      <td>7.910400</td>\n",
       "    </tr>\n",
       "    <tr>\n",
       "      <th>50%</th>\n",
       "      <td>0.000000</td>\n",
       "      <td>3.000000</td>\n",
       "      <td>28.000000</td>\n",
       "      <td>0.000000</td>\n",
       "      <td>0.000000</td>\n",
       "      <td>14.454200</td>\n",
       "    </tr>\n",
       "    <tr>\n",
       "      <th>75%</th>\n",
       "      <td>1.000000</td>\n",
       "      <td>3.000000</td>\n",
       "      <td>38.000000</td>\n",
       "      <td>1.000000</td>\n",
       "      <td>0.000000</td>\n",
       "      <td>31.000000</td>\n",
       "    </tr>\n",
       "    <tr>\n",
       "      <th>max</th>\n",
       "      <td>1.000000</td>\n",
       "      <td>3.000000</td>\n",
       "      <td>80.000000</td>\n",
       "      <td>8.000000</td>\n",
       "      <td>6.000000</td>\n",
       "      <td>512.329200</td>\n",
       "    </tr>\n",
       "  </tbody>\n",
       "</table>\n",
       "</div>"
      ],
      "text/plain": [
       "         Survived      Pclass         Age       SibSp       Parch        Fare\n",
       "count  891.000000  891.000000  714.000000  891.000000  891.000000  891.000000\n",
       "mean     0.383838    2.308642   29.699118    0.523008    0.381594   32.204208\n",
       "std      0.486592    0.836071   14.526497    1.102743    0.806057   49.693429\n",
       "min      0.000000    1.000000    0.420000    0.000000    0.000000    0.000000\n",
       "25%      0.000000    2.000000   20.125000    0.000000    0.000000    7.910400\n",
       "50%      0.000000    3.000000   28.000000    0.000000    0.000000   14.454200\n",
       "75%      1.000000    3.000000   38.000000    1.000000    0.000000   31.000000\n",
       "max      1.000000    3.000000   80.000000    8.000000    6.000000  512.329200"
      ]
     },
     "execution_count": 10,
     "metadata": {},
     "output_type": "execute_result"
    }
   ],
   "source": [
    "#This provides with  the raw statistics needed to overview the dataset. \n",
    "train_titanic.describe()"
   ]
  },
  {
   "cell_type": "markdown",
   "metadata": {},
   "source": [
    "## B. Data Cleaning and Managing Missing Data \n",
    "\n",
    "\n",
    "We will be going through the process of managing a assessing the data set we already have while compensating for the missing values. \n"
   ]
  },
  {
   "cell_type": "code",
   "execution_count": 11,
   "metadata": {},
   "outputs": [
    {
     "data": {
      "text/plain": [
       "Index(['Survived', 'Pclass', 'Name', 'Sex', 'Age', 'SibSp', 'Parch', 'Ticket',\n",
       "       'Fare', 'Cabin', 'Embarked'],\n",
       "      dtype='object')"
      ]
     },
     "execution_count": 11,
     "metadata": {},
     "output_type": "execute_result"
    }
   ],
   "source": [
    "train_titanic.columns"
   ]
  },
  {
   "cell_type": "code",
   "execution_count": 12,
   "metadata": {},
   "outputs": [
    {
     "name": "stdout",
     "output_type": "stream",
     "text": [
      "Missing data in each Titanic dataframe column:\n",
      "Age : 177 missing values is 19.865 % of total\n",
      "Cabin : 687 missing values is 77.104 % of total\n",
      "Embarked : 2 missing values is 0.224 % of total\n"
     ]
    }
   ],
   "source": [
    "print ('Missing data in each Titanic dataframe column:')\n",
    "for c in train_titanic.columns:\n",
    "    missing_data = len(train_titanic) - train_titanic[c].count()\n",
    "    if (missing_data > 0 or missing_data =='NaN'):\n",
    "        print (c, ':', missing_data, 'missing values is', str(round (float (missing_data / float(len(train_titanic))) * 100, 3)), '% of total')"
   ]
  },
  {
   "cell_type": "markdown",
   "metadata": {},
   "source": [
    "The missing values identified in this datat frame are from the cabin column and age column. It shows that there are significant data values missing which could potencially skew the findings. The other assumption is that there cabin records where not entrered by the crew members.\n",
    "\n",
    "This in itself posses some other questions why was it not entered and could it bear a greater presidence in finding out the main reason why the survival rate was what it ended up to be. "
   ]
  },
  {
   "cell_type": "markdown",
   "metadata": {},
   "source": [
    "## Cleaning the Port of Embarkation"
   ]
  },
  {
   "cell_type": "code",
   "execution_count": 13,
   "metadata": {},
   "outputs": [
    {
     "data": {
      "text/plain": [
       "Southampton    646\n",
       "Cherbourg      168\n",
       "Queenstown      77\n",
       "Name: Embarked, dtype: int64"
      ]
     },
     "execution_count": 13,
     "metadata": {},
     "output_type": "execute_result"
    }
   ],
   "source": [
    "#Fill empty/NaN Embark values with most common Embark value\n",
    "train_titanic['Embarked'] = train_titanic['Embarked'].fillna(value=(train_titanic['Embarked'].value_counts().idxmax()))\n",
    "# Replace Embarked letter with port name\n",
    "train_titanic['Embarked'] = train_titanic['Embarked'].replace(['C'], 'Cherbourg')\n",
    "train_titanic['Embarked'] = train_titanic['Embarked'].replace(['Q'], 'Queenstown')\n",
    "train_titanic['Embarked'] = train_titanic['Embarked'].replace(['S'], 'Southampton')\n",
    "# Print unique passenger titles and their counts\n",
    "train_titanic['Embarked'].value_counts()"
   ]
  },
  {
   "cell_type": "markdown",
   "metadata": {},
   "source": [
    "Thre were not a few missing data from port embarked as a result I replaced the letter designating the port to the actual name of the port. (C = Cherbourg, Q = Queenstown, S = Southampton)\n",
    "\n",
    "It shows that majority of the passengers boarded the vessel from Southhampton, England which was the first place it set sail.  "
   ]
  },
  {
   "cell_type": "code",
   "execution_count": null,
   "metadata": {},
   "outputs": [],
   "source": [
    "train_titanic.Cabin.unique()"
   ]
  },
  {
   "cell_type": "code",
   "execution_count": 15,
   "metadata": {},
   "outputs": [
    {
     "data": {
      "text/plain": [
       "(891, 11)"
      ]
     },
     "execution_count": 15,
     "metadata": {},
     "output_type": "execute_result"
    }
   ],
   "source": [
    "train_titanic.shape"
   ]
  },
  {
   "cell_type": "code",
   "execution_count": null,
   "metadata": {
    "scrolled": true
   },
   "outputs": [],
   "source": [
    "train_titanic.apply(pd.value_counts)"
   ]
  },
  {
   "cell_type": "markdown",
   "metadata": {},
   "source": [
    "## Fill empty Carbins with '¯\\(ツ)/¯'"
   ]
  },
  {
   "cell_type": "code",
   "execution_count": 1,
   "metadata": {},
   "outputs": [],
   "source": [
    "#Identified the missing values within each column\n",
    "train_titanic.apply(pd.value_counts)"
   ]
  },
  {
   "cell_type": "code",
   "execution_count": 18,
   "metadata": {},
   "outputs": [],
   "source": [
    "#Replaced NaN values with the symbol \"'¯\\(ツ)/¯'\"\n",
    "carbin_smile = lambda x:'¯\\(ツ)/¯' if str(x) == 'nan' else x"
   ]
  },
  {
   "cell_type": "code",
   "execution_count": 19,
   "metadata": {},
   "outputs": [],
   "source": [
    "train_titanic['Cabin'] = train_titanic['Cabin'].map(carbin_smile)"
   ]
  },
  {
   "cell_type": "code",
   "execution_count": 2,
   "metadata": {
    "scrolled": true
   },
   "outputs": [],
   "source": [
    "#This process allows for a clearer view statistically what data is availale and how it caan be assested for further analysis\n",
    "train_titanic.head()"
   ]
  },
  {
   "cell_type": "markdown",
   "metadata": {},
   "source": [
    "## 3. Create dummy columns for Embark Locations ('C', 'S', and 'Q'), and Sex ('Male' and 'Female')"
   ]
  },
  {
   "cell_type": "markdown",
   "metadata": {},
   "source": [
    "### Embark Location Dummies"
   ]
  },
  {
   "cell_type": "code",
   "execution_count": 21,
   "metadata": {},
   "outputs": [],
   "source": [
    "# Create dummy values for Embarked Locations\n",
    "train_titanic[['Embarked_C','Embarked_Q','Embarked_S']] = pd.get_dummies(train_titanic['Embarked'])"
   ]
  },
  {
   "cell_type": "markdown",
   "metadata": {},
   "source": [
    "### Sex Dummies Columns"
   ]
  },
  {
   "cell_type": "code",
   "execution_count": 22,
   "metadata": {},
   "outputs": [],
   "source": [
    "# Create dummy values for Sex\n",
    "train_titanic[['Sex_F', 'Sex_M']] = pd.get_dummies(train_titanic['Sex'])"
   ]
  },
  {
   "cell_type": "markdown",
   "metadata": {},
   "source": [
    "Created two columns for Sex showing Sex_F and Sex_M with male = 1 and female = 0 respectfuly. "
   ]
  },
  {
   "cell_type": "code",
   "execution_count": null,
   "metadata": {},
   "outputs": [],
   "source": [
    "train_titanic.head()"
   ]
  },
  {
   "cell_type": "code",
   "execution_count": 24,
   "metadata": {},
   "outputs": [
    {
     "data": {
      "text/html": [
       "<div>\n",
       "<style scoped>\n",
       "    .dataframe tbody tr th:only-of-type {\n",
       "        vertical-align: middle;\n",
       "    }\n",
       "\n",
       "    .dataframe tbody tr th {\n",
       "        vertical-align: top;\n",
       "    }\n",
       "\n",
       "    .dataframe thead th {\n",
       "        text-align: right;\n",
       "    }\n",
       "</style>\n",
       "<table border=\"1\" class=\"dataframe\">\n",
       "  <thead>\n",
       "    <tr style=\"text-align: right;\">\n",
       "      <th>Embarked</th>\n",
       "      <th>Cherbourg</th>\n",
       "      <th>Queenstown</th>\n",
       "      <th>Southampton</th>\n",
       "    </tr>\n",
       "  </thead>\n",
       "  <tbody>\n",
       "    <tr>\n",
       "      <th>Survived</th>\n",
       "      <td>0.553571</td>\n",
       "      <td>0.389610</td>\n",
       "      <td>0.339009</td>\n",
       "    </tr>\n",
       "    <tr>\n",
       "      <th>Pclass</th>\n",
       "      <td>1.886905</td>\n",
       "      <td>2.909091</td>\n",
       "      <td>2.346749</td>\n",
       "    </tr>\n",
       "    <tr>\n",
       "      <th>Age</th>\n",
       "      <td>30.814769</td>\n",
       "      <td>28.089286</td>\n",
       "      <td>29.519335</td>\n",
       "    </tr>\n",
       "    <tr>\n",
       "      <th>SibSp</th>\n",
       "      <td>0.386905</td>\n",
       "      <td>0.428571</td>\n",
       "      <td>0.569659</td>\n",
       "    </tr>\n",
       "    <tr>\n",
       "      <th>Parch</th>\n",
       "      <td>0.363095</td>\n",
       "      <td>0.168831</td>\n",
       "      <td>0.411765</td>\n",
       "    </tr>\n",
       "    <tr>\n",
       "      <th>Fare</th>\n",
       "      <td>59.954144</td>\n",
       "      <td>13.276030</td>\n",
       "      <td>27.243651</td>\n",
       "    </tr>\n",
       "    <tr>\n",
       "      <th>Embarked_C</th>\n",
       "      <td>1.000000</td>\n",
       "      <td>0.000000</td>\n",
       "      <td>0.000000</td>\n",
       "    </tr>\n",
       "    <tr>\n",
       "      <th>Embarked_Q</th>\n",
       "      <td>0.000000</td>\n",
       "      <td>1.000000</td>\n",
       "      <td>0.000000</td>\n",
       "    </tr>\n",
       "    <tr>\n",
       "      <th>Embarked_S</th>\n",
       "      <td>0.000000</td>\n",
       "      <td>0.000000</td>\n",
       "      <td>1.000000</td>\n",
       "    </tr>\n",
       "    <tr>\n",
       "      <th>Sex_F</th>\n",
       "      <td>0.434524</td>\n",
       "      <td>0.467532</td>\n",
       "      <td>0.317337</td>\n",
       "    </tr>\n",
       "    <tr>\n",
       "      <th>Sex_M</th>\n",
       "      <td>0.565476</td>\n",
       "      <td>0.532468</td>\n",
       "      <td>0.682663</td>\n",
       "    </tr>\n",
       "  </tbody>\n",
       "</table>\n",
       "</div>"
      ],
      "text/plain": [
       "Embarked    Cherbourg  Queenstown  Southampton\n",
       "Survived     0.553571    0.389610     0.339009\n",
       "Pclass       1.886905    2.909091     2.346749\n",
       "Age         30.814769   28.089286    29.519335\n",
       "SibSp        0.386905    0.428571     0.569659\n",
       "Parch        0.363095    0.168831     0.411765\n",
       "Fare        59.954144   13.276030    27.243651\n",
       "Embarked_C   1.000000    0.000000     0.000000\n",
       "Embarked_Q   0.000000    1.000000     0.000000\n",
       "Embarked_S   0.000000    0.000000     1.000000\n",
       "Sex_F        0.434524    0.467532     0.317337\n",
       "Sex_M        0.565476    0.532468     0.682663"
      ]
     },
     "execution_count": 24,
     "metadata": {},
     "output_type": "execute_result"
    }
   ],
   "source": [
    "#This speaks to the survival rate, age and passengers from the various locations of embarking.\n",
    "\n",
    "train_titanic.groupby('Embarked').mean().T"
   ]
  },
  {
   "cell_type": "markdown",
   "metadata": {},
   "source": [
    "This information brings to light a few assessment which is the percent of survivors from the voyage, where they embarked the age group of those indiviaduals. Also importantly the families that was there with them which possess a major factor in the passengers rate of survival. \n",
    "\n",
    "From first glasnce it shows that the more family your traveled with, the less you paid, the class you were placed in would drastically affect your rate of survival on that vessell. "
   ]
  },
  {
   "cell_type": "code",
   "execution_count": 25,
   "metadata": {},
   "outputs": [
    {
     "data": {
      "text/plain": [
       "Southampton    646\n",
       "Cherbourg      168\n",
       "Queenstown      77\n",
       "Name: Embarked, dtype: int64"
      ]
     },
     "execution_count": 25,
     "metadata": {},
     "output_type": "execute_result"
    }
   ],
   "source": [
    "#Shows that place of embarking Southampton was the first place of departure of this voyage which potencially would have more passengers  \n",
    "train_titanic['Embarked'].value_counts()"
   ]
  },
  {
   "cell_type": "markdown",
   "metadata": {},
   "source": [
    "### Title using Dummies"
   ]
  },
  {
   "cell_type": "code",
   "execution_count": 26,
   "metadata": {},
   "outputs": [],
   "source": [
    "train_titanic['Family_count'] = train_titanic['SibSp']+ train_titanic['Parch']"
   ]
  },
  {
   "cell_type": "code",
   "execution_count": 27,
   "metadata": {},
   "outputs": [
    {
     "data": {
      "text/plain": [
       "PassengerId\n",
       "1                                Braund, Mr. Owen Harris\n",
       "2      Cumings, Mrs. John Bradley (Florence Briggs Th...\n",
       "3                                 Heikkinen, Miss. Laina\n",
       "4           Futrelle, Mrs. Jacques Heath (Lily May Peel)\n",
       "5                               Allen, Mr. William Henry\n",
       "                             ...                        \n",
       "887                                Montvila, Rev. Juozas\n",
       "888                         Graham, Miss. Margaret Edith\n",
       "889             Johnston, Miss. Catherine Helen \"Carrie\"\n",
       "890                                Behr, Mr. Karl Howell\n",
       "891                                  Dooley, Mr. Patrick\n",
       "Name: Name, Length: 891, dtype: object"
      ]
     },
     "execution_count": 27,
     "metadata": {},
     "output_type": "execute_result"
    }
   ],
   "source": [
    "train_titanic['Name']"
   ]
  },
  {
   "cell_type": "code",
   "execution_count": 28,
   "metadata": {
    "scrolled": true
   },
   "outputs": [
    {
     "data": {
      "text/plain": [
       "Mr              517\n",
       "Miss            182\n",
       "Mrs             125\n",
       "Master           40\n",
       "Dr                7\n",
       "Rev               6\n",
       "Major             2\n",
       "Mlle              2\n",
       "Col               2\n",
       "the Countess      1\n",
       "Capt              1\n",
       "Don               1\n",
       "Lady              1\n",
       "Ms                1\n",
       "Jonkheer          1\n",
       "Mme               1\n",
       "Sir               1\n",
       "Name: Title, dtype: int64"
      ]
     },
     "execution_count": 28,
     "metadata": {},
     "output_type": "execute_result"
    }
   ],
   "source": [
    "# Split passenger titles in Name category and place in new 'TitleF' column\n",
    "train_titanic['Title'] = train_titanic['Name'].map(lambda Name: Name.split(',')[1].split('.')[0].strip())\n",
    "# Print unique passenger titles and their counts\n",
    "train_titanic['Title'].value_counts()"
   ]
  },
  {
   "cell_type": "code",
   "execution_count": 29,
   "metadata": {},
   "outputs": [
    {
     "data": {
      "text/plain": [
       "array(['Mr', 'Mrs', 'Miss', 'Master', 'Don', 'Rev', 'Dr', 'Mme', 'Ms',\n",
       "       'Major', 'Lady', 'Sir', 'Mlle', 'Col', 'Capt', 'the Countess',\n",
       "       'Jonkheer'], dtype=object)"
      ]
     },
     "execution_count": 29,
     "metadata": {},
     "output_type": "execute_result"
    }
   ],
   "source": [
    "#identifies the title of each recorded passenger\n",
    "train_titanic.Title.unique()"
   ]
  },
  {
   "cell_type": "markdown",
   "metadata": {},
   "source": [
    "From first assessmeent there are few things that has to be examined which is the title and the better categorizing of these titles. As is, it does not clearly identifies who is male from female from these titles."
   ]
  },
  {
   "cell_type": "code",
   "execution_count": 30,
   "metadata": {},
   "outputs": [
    {
     "data": {
      "text/plain": [
       "M    870\n",
       "D      8\n",
       "R      6\n",
       "C      3\n",
       "L      1\n",
       "J      1\n",
       "t      1\n",
       "S      1\n",
       "Name: Title, dtype: int64"
      ]
     },
     "execution_count": 30,
     "metadata": {},
     "output_type": "execute_result"
    }
   ],
   "source": [
    "#Breafly shows the numbers of passengers based on the title\n",
    "train_titanic['Title'].map(lambda x: 'Rev' if str(x) == 'nan' else x[0] ).value_counts()"
   ]
  },
  {
   "cell_type": "code",
   "execution_count": 31,
   "metadata": {},
   "outputs": [
    {
     "data": {
      "text/html": [
       "<div>\n",
       "<style scoped>\n",
       "    .dataframe tbody tr th:only-of-type {\n",
       "        vertical-align: middle;\n",
       "    }\n",
       "\n",
       "    .dataframe tbody tr th {\n",
       "        vertical-align: top;\n",
       "    }\n",
       "\n",
       "    .dataframe thead th {\n",
       "        text-align: right;\n",
       "    }\n",
       "</style>\n",
       "<table border=\"1\" class=\"dataframe\">\n",
       "  <thead>\n",
       "    <tr style=\"text-align: right;\">\n",
       "      <th></th>\n",
       "      <th>Survived</th>\n",
       "      <th>Pclass</th>\n",
       "      <th>Name</th>\n",
       "      <th>Sex</th>\n",
       "      <th>Age</th>\n",
       "      <th>SibSp</th>\n",
       "      <th>Parch</th>\n",
       "      <th>Ticket</th>\n",
       "      <th>Fare</th>\n",
       "      <th>Cabin</th>\n",
       "      <th>Embarked</th>\n",
       "      <th>Embarked_C</th>\n",
       "      <th>Embarked_Q</th>\n",
       "      <th>Embarked_S</th>\n",
       "      <th>Sex_F</th>\n",
       "      <th>Sex_M</th>\n",
       "      <th>Family_count</th>\n",
       "      <th>Title</th>\n",
       "    </tr>\n",
       "    <tr>\n",
       "      <th>PassengerId</th>\n",
       "      <th></th>\n",
       "      <th></th>\n",
       "      <th></th>\n",
       "      <th></th>\n",
       "      <th></th>\n",
       "      <th></th>\n",
       "      <th></th>\n",
       "      <th></th>\n",
       "      <th></th>\n",
       "      <th></th>\n",
       "      <th></th>\n",
       "      <th></th>\n",
       "      <th></th>\n",
       "      <th></th>\n",
       "      <th></th>\n",
       "      <th></th>\n",
       "      <th></th>\n",
       "      <th></th>\n",
       "    </tr>\n",
       "  </thead>\n",
       "  <tbody>\n",
       "    <tr>\n",
       "      <th>1</th>\n",
       "      <td>0</td>\n",
       "      <td>3</td>\n",
       "      <td>Braund, Mr. Owen Harris</td>\n",
       "      <td>male</td>\n",
       "      <td>22.0</td>\n",
       "      <td>1</td>\n",
       "      <td>0</td>\n",
       "      <td>A/5 21171</td>\n",
       "      <td>7.2500</td>\n",
       "      <td>¯\\(ツ)/¯</td>\n",
       "      <td>Southampton</td>\n",
       "      <td>0</td>\n",
       "      <td>0</td>\n",
       "      <td>1</td>\n",
       "      <td>0</td>\n",
       "      <td>1</td>\n",
       "      <td>1</td>\n",
       "      <td>Mr</td>\n",
       "    </tr>\n",
       "    <tr>\n",
       "      <th>2</th>\n",
       "      <td>1</td>\n",
       "      <td>1</td>\n",
       "      <td>Cumings, Mrs. John Bradley (Florence Briggs Th...</td>\n",
       "      <td>female</td>\n",
       "      <td>38.0</td>\n",
       "      <td>1</td>\n",
       "      <td>0</td>\n",
       "      <td>PC 17599</td>\n",
       "      <td>71.2833</td>\n",
       "      <td>C85</td>\n",
       "      <td>Cherbourg</td>\n",
       "      <td>1</td>\n",
       "      <td>0</td>\n",
       "      <td>0</td>\n",
       "      <td>1</td>\n",
       "      <td>0</td>\n",
       "      <td>1</td>\n",
       "      <td>Mrs</td>\n",
       "    </tr>\n",
       "    <tr>\n",
       "      <th>3</th>\n",
       "      <td>1</td>\n",
       "      <td>3</td>\n",
       "      <td>Heikkinen, Miss. Laina</td>\n",
       "      <td>female</td>\n",
       "      <td>26.0</td>\n",
       "      <td>0</td>\n",
       "      <td>0</td>\n",
       "      <td>STON/O2. 3101282</td>\n",
       "      <td>7.9250</td>\n",
       "      <td>¯\\(ツ)/¯</td>\n",
       "      <td>Southampton</td>\n",
       "      <td>0</td>\n",
       "      <td>0</td>\n",
       "      <td>1</td>\n",
       "      <td>1</td>\n",
       "      <td>0</td>\n",
       "      <td>0</td>\n",
       "      <td>Miss</td>\n",
       "    </tr>\n",
       "    <tr>\n",
       "      <th>4</th>\n",
       "      <td>1</td>\n",
       "      <td>1</td>\n",
       "      <td>Futrelle, Mrs. Jacques Heath (Lily May Peel)</td>\n",
       "      <td>female</td>\n",
       "      <td>35.0</td>\n",
       "      <td>1</td>\n",
       "      <td>0</td>\n",
       "      <td>113803</td>\n",
       "      <td>53.1000</td>\n",
       "      <td>C123</td>\n",
       "      <td>Southampton</td>\n",
       "      <td>0</td>\n",
       "      <td>0</td>\n",
       "      <td>1</td>\n",
       "      <td>1</td>\n",
       "      <td>0</td>\n",
       "      <td>1</td>\n",
       "      <td>Mrs</td>\n",
       "    </tr>\n",
       "    <tr>\n",
       "      <th>5</th>\n",
       "      <td>0</td>\n",
       "      <td>3</td>\n",
       "      <td>Allen, Mr. William Henry</td>\n",
       "      <td>male</td>\n",
       "      <td>35.0</td>\n",
       "      <td>0</td>\n",
       "      <td>0</td>\n",
       "      <td>373450</td>\n",
       "      <td>8.0500</td>\n",
       "      <td>¯\\(ツ)/¯</td>\n",
       "      <td>Southampton</td>\n",
       "      <td>0</td>\n",
       "      <td>0</td>\n",
       "      <td>1</td>\n",
       "      <td>0</td>\n",
       "      <td>1</td>\n",
       "      <td>0</td>\n",
       "      <td>Mr</td>\n",
       "    </tr>\n",
       "  </tbody>\n",
       "</table>\n",
       "</div>"
      ],
      "text/plain": [
       "             Survived  Pclass  \\\n",
       "PassengerId                     \n",
       "1                   0       3   \n",
       "2                   1       1   \n",
       "3                   1       3   \n",
       "4                   1       1   \n",
       "5                   0       3   \n",
       "\n",
       "                                                          Name     Sex   Age  \\\n",
       "PassengerId                                                                    \n",
       "1                                      Braund, Mr. Owen Harris    male  22.0   \n",
       "2            Cumings, Mrs. John Bradley (Florence Briggs Th...  female  38.0   \n",
       "3                                       Heikkinen, Miss. Laina  female  26.0   \n",
       "4                 Futrelle, Mrs. Jacques Heath (Lily May Peel)  female  35.0   \n",
       "5                                     Allen, Mr. William Henry    male  35.0   \n",
       "\n",
       "             SibSp  Parch            Ticket     Fare    Cabin     Embarked  \\\n",
       "PassengerId                                                                  \n",
       "1                1      0         A/5 21171   7.2500  ¯\\(ツ)/¯  Southampton   \n",
       "2                1      0          PC 17599  71.2833      C85    Cherbourg   \n",
       "3                0      0  STON/O2. 3101282   7.9250  ¯\\(ツ)/¯  Southampton   \n",
       "4                1      0            113803  53.1000     C123  Southampton   \n",
       "5                0      0            373450   8.0500  ¯\\(ツ)/¯  Southampton   \n",
       "\n",
       "             Embarked_C  Embarked_Q  Embarked_S  Sex_F  Sex_M  Family_count  \\\n",
       "PassengerId                                                                   \n",
       "1                     0           0           1      0      1             1   \n",
       "2                     1           0           0      1      0             1   \n",
       "3                     0           0           1      1      0             0   \n",
       "4                     0           0           1      1      0             1   \n",
       "5                     0           0           1      0      1             0   \n",
       "\n",
       "            Title  \n",
       "PassengerId        \n",
       "1              Mr  \n",
       "2             Mrs  \n",
       "3            Miss  \n",
       "4             Mrs  \n",
       "5              Mr  "
      ]
     },
     "execution_count": 31,
     "metadata": {},
     "output_type": "execute_result"
    }
   ],
   "source": [
    "train_titanic.head(5)"
   ]
  },
  {
   "cell_type": "code",
   "execution_count": 32,
   "metadata": {},
   "outputs": [
    {
     "name": "stdout",
     "output_type": "stream",
     "text": [
      "Men             517\n",
      "Women           239\n",
      "Children         72\n",
      "Miss             36\n",
      "Dr                7\n",
      "Rev               6\n",
      "Major             2\n",
      "Mlle              2\n",
      "Col               2\n",
      "the Countess      1\n",
      "Capt              1\n",
      "Don               1\n",
      "Lady              1\n",
      "Ms                1\n",
      "Jonkheer          1\n",
      "Mme               1\n",
      "Sir               1\n",
      "Name: MWC, dtype: int64\n",
      "\n",
      "count     891\n",
      "unique     17\n",
      "top       Men\n",
      "freq      517\n",
      "Name: MWC, dtype: object\n"
     ]
    }
   ],
   "source": [
    "# Create new 'MWC' column to store Man, Woman, Child descriptions\n",
    "train_titanic['MWC'] = train_titanic['Title']\n",
    "# Replace 'Mr' with 'Man'\n",
    "train_titanic['MWC'] = train_titanic['MWC'].replace('Mr', 'Men')\n",
    "# Replace 'Mrs' with 'Woman'\n",
    "train_titanic['MWC'] = train_titanic['MWC'].replace('Mrs', 'Women')\n",
    "# Replace 'Master' with 'Child'\n",
    "train_titanic['MWC'] = train_titanic['MWC'].replace('Master', 'Children')\n",
    "# Replace Misses with value in Age 14 and lower with 'Child'\n",
    "train_titanic['MWC'] = train_titanic['MWC'].replace(train_titanic['MWC'].loc[(train_titanic.Age <= 12) &\n",
    "                                                                    (train_titanic.MWC == 'Miss')], 'Children')\n",
    "# Replace Misses with value in Age higher than 14 with 'Woman'\n",
    "train_titanic['MWC'] = train_titanic['MWC'].replace(train_titanic['MWC'].loc[(train_titanic.Age > 12) &\n",
    "                                                                    (train_titanic.MWC == 'Miss')], 'Women')\n",
    "# Print MWC stats\n",
    "print (train_titanic['MWC'].value_counts())\n",
    "print ('')\n",
    "print (train_titanic['MWC'].describe())"
   ]
  },
  {
   "cell_type": "markdown",
   "metadata": {},
   "source": [
    "This is a clear out look and adjustment to the title and identifying clear seperation between subsets (Man, Woman, Children). This brings to light valuable insight as to what happened on the fatal voyage. \n",
    "\n",
    "Also there is a significance with this data which identifies the number children who were aboard the vessel based on this sample set. "
   ]
  },
  {
   "cell_type": "markdown",
   "metadata": {},
   "source": [
    "# Step 4: Exploratory Analysis\n"
   ]
  },
  {
   "cell_type": "markdown",
   "metadata": {},
   "source": [
    "### 4. a. Overall Survival Rate"
   ]
  },
  {
   "cell_type": "code",
   "execution_count": 33,
   "metadata": {},
   "outputs": [
    {
     "name": "stdout",
     "output_type": "stream",
     "text": [
      "The overall survival rate is 38.4%.\n"
     ]
    }
   ],
   "source": [
    "psg_all = train_titanic.shape[0]\n",
    "psg_surv = train_titanic['Survived'].sum()\n",
    "psg_surv_rate = psg_surv / psg_all\n",
    "print(f'The overall survival rate is {round(psg_surv_rate * 100, 1)}%.')"
   ]
  },
  {
   "cell_type": "code",
   "execution_count": 34,
   "metadata": {},
   "outputs": [
    {
     "data": {
      "text/plain": [
       "0    549\n",
       "1    342\n",
       "Name: Survived, dtype: int64"
      ]
     },
     "execution_count": 34,
     "metadata": {},
     "output_type": "execute_result"
    }
   ],
   "source": [
    "# Overall Survival rate\n",
    "# 0 = died\n",
    "# 1 = lived\n",
    "train_titanic['Survived'].value_counts()"
   ]
  },
  {
   "cell_type": "markdown",
   "metadata": {},
   "source": [
    "From first glance survival from that catastrofy was fatal many families perished based on the numbers indicated almost 65% casualties. "
   ]
  },
  {
   "cell_type": "markdown",
   "metadata": {},
   "source": [
    "### 4.b. Gender that fared the worst. What was their survival rate?"
   ]
  },
  {
   "cell_type": "code",
   "execution_count": 35,
   "metadata": {},
   "outputs": [
    {
     "name": "stdout",
     "output_type": "stream",
     "text": [
      "Train: Males\n",
      "              Age        Fare      Pclass       SibSp       Parch\n",
      "count  453.000000  577.000000  577.000000  577.000000  577.000000\n",
      "mean    30.726645   25.523893    2.389948    0.429809    0.235702\n",
      "std     14.678201   43.138263    0.813580    1.061811    0.612294\n",
      "min      0.420000    0.000000    1.000000    0.000000    0.000000\n",
      "25%     21.000000    7.895800    2.000000    0.000000    0.000000\n",
      "50%     29.000000   10.500000    3.000000    0.000000    0.000000\n",
      "75%     39.000000   26.550000    3.000000    0.000000    0.000000\n",
      "max     80.000000  512.329200    3.000000    8.000000    5.000000\n",
      "Train: Females\n",
      "              Age        Fare      Pclass       SibSp       Parch\n",
      "count  261.000000  314.000000  314.000000  314.000000  314.000000\n",
      "mean    27.915709   44.479818    2.159236    0.694268    0.649682\n",
      "std     14.110146   57.997698    0.857290    1.156520    1.022846\n",
      "min      0.750000    6.750000    1.000000    0.000000    0.000000\n",
      "25%     18.000000   12.071875    1.000000    0.000000    0.000000\n",
      "50%     27.000000   23.000000    2.000000    0.000000    0.000000\n",
      "75%     37.000000   55.000000    3.000000    1.000000    1.000000\n",
      "max     63.000000  512.329200    3.000000    8.000000    6.000000\n"
     ]
    }
   ],
   "source": [
    "#Break down of Female and Male passengers and a brief statistic analysis of survial rate\n",
    "describe_fields = [\"Age\", \"Fare\", \"Pclass\", \"SibSp\", \"Parch\"]\n",
    "\n",
    "print(\"Train: Males\")\n",
    "print(train_titanic[train_titanic.Sex == \"male\"][describe_fields].describe())\n",
    "\n",
    "print(\"Train: Females\")\n",
    "print(train_titanic[train_titanic.Sex == \"female\"][describe_fields].describe())\n",
    "\n"
   ]
  },
  {
   "cell_type": "code",
   "execution_count": 36,
   "metadata": {},
   "outputs": [],
   "source": [
    "# Calculating population by sex\n",
    "psg_m = train_titanic['Sex_M'].sum() # Calculate male passerger population\n",
    "psg_f = train_titanic['Sex_F'].sum() # Calculate female passenger population\n",
    "male = train_titanic['Sex_M'] == 1   # mask for male\n",
    "female = train_titanic['Sex_F'] == 1 # mask for female"
   ]
  },
  {
   "cell_type": "code",
   "execution_count": 37,
   "metadata": {},
   "outputs": [
    {
     "name": "stdout",
     "output_type": "stream",
     "text": [
      "The average fare for male passenger is $25.52, and       \n",
      "the average fare for female passenger is $44.48.\n",
      "Therefore, female passengers were fared worse.\n"
     ]
    }
   ],
   "source": [
    "# Calculate the average fare by sex\n",
    "psg_m_avefare = train_titanic[male]['Fare'].mean()\n",
    "psg_f_avefare = train_titanic[female]['Fare'].mean()\n",
    "print(f'The average fare for male passenger is ${round(psg_m_avefare, 2)}, and \\\n",
    "      \\nthe average fare for female passenger is ${round(psg_f_avefare, 2)}.') \n",
    "print(f'Therefore, female passengers were fared worse.')"
   ]
  },
  {
   "cell_type": "code",
   "execution_count": 38,
   "metadata": {},
   "outputs": [
    {
     "name": "stdout",
     "output_type": "stream",
     "text": [
      "The female passenger survival rate is 74.2%.\n"
     ]
    }
   ],
   "source": [
    "# Calculate female passenger survival rate\n",
    "psg_f_surv = train_titanic[female]['Survived'].sum()\n",
    "psg_f_surv_rate = psg_f_surv / psg_f\n",
    "print(f'The female passenger survival rate is {round(psg_f_surv_rate * 100, 1)}%.')"
   ]
  },
  {
   "cell_type": "markdown",
   "metadata": {},
   "source": [
    "> `The female fared the worst with average fare of 44.25 dollars compared to average fare of 25.52 dollars for male passengers.\n",
    "The female passenger survival rate is 74.0%.`\n",
    "\n",
    ">There a view outlayer at first glance which shows that there was a significance disparity with female and male passengers which indicated that most male passengers embarked alone paid less and than oppose to the female passengers. The reason for the signicance in the fare prices could be because they were travelling with children or small family."
   ]
  },
  {
   "cell_type": "code",
   "execution_count": 39,
   "metadata": {},
   "outputs": [
    {
     "name": "stdout",
     "output_type": "stream",
     "text": [
      "Base probability for survivorship is 0.3838383838383838\n"
     ]
    }
   ],
   "source": [
    "# calculating the base probability for predicting survivorship\n",
    "\n",
    "print( \"Base probability for survivorship is\", 342.0/(549+342))"
   ]
  },
  {
   "cell_type": "markdown",
   "metadata": {},
   "source": [
    "## 3.c. Survival Rate for each Pclass"
   ]
  },
  {
   "cell_type": "code",
   "execution_count": 40,
   "metadata": {},
   "outputs": [
    {
     "name": "stdout",
     "output_type": "stream",
     "text": [
      "Number of passengers by Travel Class:      \n",
      "Pclass\n",
      "1    216\n",
      "2    184\n",
      "3    491\n",
      "Name: Pclass, dtype: int64\n"
     ]
    }
   ],
   "source": [
    "## number of passengers in each cabin class\n",
    "psg_pclass = train_titanic.groupby('Pclass')['Pclass'].agg('count')\n",
    "print(f'Number of passengers by Travel Class:\\\n",
    "      \\n{psg_pclass}')\n"
   ]
  },
  {
   "cell_type": "code",
   "execution_count": 41,
   "metadata": {},
   "outputs": [
    {
     "name": "stdout",
     "output_type": "stream",
     "text": [
      "Number of survivors by Travel Class:      \n",
      "Pclass\n",
      "1    136\n",
      "2     87\n",
      "3    119\n",
      "Name: Survived, dtype: int64.\n"
     ]
    }
   ],
   "source": [
    "# Calculate the number of survivors for each PClass\n",
    "psg_pclass_surv = train_titanic.groupby('Pclass')['Survived'].agg('sum')\n",
    "print(f'Number of survivors by Travel Class:\\\n",
    "      \\n{psg_pclass_surv}.')"
   ]
  },
  {
   "cell_type": "code",
   "execution_count": 42,
   "metadata": {},
   "outputs": [
    {
     "name": "stdout",
     "output_type": "stream",
     "text": [
      "The survival rate for each Travel Class:       \n",
      "Pclass\n",
      "1    0.630\n",
      "2    0.473\n",
      "3    0.242\n",
      "dtype: float64\n"
     ]
    }
   ],
   "source": [
    "# Calculate the survival for each PClass\n",
    "psg_pclass_surv_rate = psg_pclass_surv / psg_pclass\n",
    "print(f'The survival rate for each Travel Class: \\\n",
    "      \\n{round(psg_pclass_surv_rate, 3)}')"
   ]
  },
  {
   "cell_type": "code",
   "execution_count": 43,
   "metadata": {},
   "outputs": [
    {
     "data": {
      "text/html": [
       "<div>\n",
       "<style scoped>\n",
       "    .dataframe tbody tr th:only-of-type {\n",
       "        vertical-align: middle;\n",
       "    }\n",
       "\n",
       "    .dataframe tbody tr th {\n",
       "        vertical-align: top;\n",
       "    }\n",
       "\n",
       "    .dataframe thead th {\n",
       "        text-align: right;\n",
       "    }\n",
       "</style>\n",
       "<table border=\"1\" class=\"dataframe\">\n",
       "  <thead>\n",
       "    <tr style=\"text-align: right;\">\n",
       "      <th></th>\n",
       "      <th>Pclass</th>\n",
       "      <th>Passenger</th>\n",
       "      <th>Survived</th>\n",
       "      <th>Survival_Rate</th>\n",
       "    </tr>\n",
       "  </thead>\n",
       "  <tbody>\n",
       "    <tr>\n",
       "      <th>0</th>\n",
       "      <td>1</td>\n",
       "      <td>216</td>\n",
       "      <td>136</td>\n",
       "      <td>0.629630</td>\n",
       "    </tr>\n",
       "    <tr>\n",
       "      <th>1</th>\n",
       "      <td>2</td>\n",
       "      <td>184</td>\n",
       "      <td>87</td>\n",
       "      <td>0.472826</td>\n",
       "    </tr>\n",
       "    <tr>\n",
       "      <th>2</th>\n",
       "      <td>3</td>\n",
       "      <td>491</td>\n",
       "      <td>119</td>\n",
       "      <td>0.242363</td>\n",
       "    </tr>\n",
       "  </tbody>\n",
       "</table>\n",
       "</div>"
      ],
      "text/plain": [
       "   Pclass  Passenger  Survived  Survival_Rate\n",
       "0       1        216       136       0.629630\n",
       "1       2        184        87       0.472826\n",
       "2       3        491       119       0.242363"
      ]
     },
     "execution_count": 43,
     "metadata": {},
     "output_type": "execute_result"
    }
   ],
   "source": [
    "df_pclass_surv = pd.DataFrame(dict(Passenger = psg_pclass,\n",
    "                                   Survived = psg_pclass_surv, \n",
    "                                   Survival_Rate = psg_pclass_surv_rate)).reset_index()\n",
    "df_pclass_surv"
   ]
  },
  {
   "cell_type": "markdown",
   "metadata": {},
   "source": [
    "Though this only shows the amount of passengers that where in class it does not shows survival based on class which we will examine shortly. "
   ]
  },
  {
   "cell_type": "code",
   "execution_count": 44,
   "metadata": {},
   "outputs": [
    {
     "name": "stdout",
     "output_type": "stream",
     "text": [
      "Pclass  Sex     Survived\n",
      "1       female  1           0.968085\n",
      "                0           0.031915\n",
      "        male    0           0.631148\n",
      "                1           0.368852\n",
      "2       female  1           0.921053\n",
      "                0           0.078947\n",
      "        male    0           0.842593\n",
      "                1           0.157407\n",
      "3       female  0           0.500000\n",
      "                1           0.500000\n",
      "        male    0           0.864553\n",
      "                1           0.135447\n",
      "Name: Survived, dtype: float64\n"
     ]
    }
   ],
   "source": [
    "#Suvival Rate for all Pclass categorized by sex \n",
    "\n",
    "print (train_titanic.groupby([\"Pclass\", 'Sex'])['Survived'].value_counts(normalize = True))"
   ]
  },
  {
   "cell_type": "markdown",
   "metadata": {},
   "source": [
    "This operation allows the assessment of three columns (Pclass, Sex, Survived) whcih allows a more clearer evaluation of which individuals survived and which didn't. This data shows that the First class passengers where given priority to disembark th casiding vessl, specificly the women and potencially children. The other two classes where not so fortunate which shows that for the men over 70% did not survived and nearly 50% of women survived. \n",
    "\n",
    "It can be assumed that this would happen based on the placement of the classes why first and second class was given profference but once we have evaluated this further our conclusions will determine what actually happened."
   ]
  },
  {
   "cell_type": "markdown",
   "metadata": {},
   "source": [
    "## 4.d. Reverend that Survived "
   ]
  },
  {
   "cell_type": "code",
   "execution_count": 45,
   "metadata": {},
   "outputs": [
    {
     "data": {
      "text/html": [
       "<div>\n",
       "<style scoped>\n",
       "    .dataframe tbody tr th:only-of-type {\n",
       "        vertical-align: middle;\n",
       "    }\n",
       "\n",
       "    .dataframe tbody tr th {\n",
       "        vertical-align: top;\n",
       "    }\n",
       "\n",
       "    .dataframe thead th {\n",
       "        text-align: right;\n",
       "    }\n",
       "</style>\n",
       "<table border=\"1\" class=\"dataframe\">\n",
       "  <thead>\n",
       "    <tr style=\"text-align: right;\">\n",
       "      <th></th>\n",
       "      <th>Survived</th>\n",
       "      <th>Pclass</th>\n",
       "      <th>Name</th>\n",
       "      <th>Sex</th>\n",
       "      <th>Age</th>\n",
       "      <th>SibSp</th>\n",
       "      <th>Parch</th>\n",
       "      <th>Ticket</th>\n",
       "      <th>Fare</th>\n",
       "      <th>Cabin</th>\n",
       "      <th>Embarked</th>\n",
       "      <th>Embarked_C</th>\n",
       "      <th>Embarked_Q</th>\n",
       "      <th>Embarked_S</th>\n",
       "      <th>Sex_F</th>\n",
       "      <th>Sex_M</th>\n",
       "      <th>Family_count</th>\n",
       "      <th>Title</th>\n",
       "      <th>MWC</th>\n",
       "    </tr>\n",
       "    <tr>\n",
       "      <th>PassengerId</th>\n",
       "      <th></th>\n",
       "      <th></th>\n",
       "      <th></th>\n",
       "      <th></th>\n",
       "      <th></th>\n",
       "      <th></th>\n",
       "      <th></th>\n",
       "      <th></th>\n",
       "      <th></th>\n",
       "      <th></th>\n",
       "      <th></th>\n",
       "      <th></th>\n",
       "      <th></th>\n",
       "      <th></th>\n",
       "      <th></th>\n",
       "      <th></th>\n",
       "      <th></th>\n",
       "      <th></th>\n",
       "      <th></th>\n",
       "    </tr>\n",
       "  </thead>\n",
       "  <tbody>\n",
       "    <tr>\n",
       "      <th>150</th>\n",
       "      <td>0</td>\n",
       "      <td>2</td>\n",
       "      <td>Byles, Rev. Thomas Roussel Davids</td>\n",
       "      <td>male</td>\n",
       "      <td>42.0</td>\n",
       "      <td>0</td>\n",
       "      <td>0</td>\n",
       "      <td>244310</td>\n",
       "      <td>13.000</td>\n",
       "      <td>¯\\(ツ)/¯</td>\n",
       "      <td>Southampton</td>\n",
       "      <td>0</td>\n",
       "      <td>0</td>\n",
       "      <td>1</td>\n",
       "      <td>0</td>\n",
       "      <td>1</td>\n",
       "      <td>0</td>\n",
       "      <td>Rev</td>\n",
       "      <td>Rev</td>\n",
       "    </tr>\n",
       "    <tr>\n",
       "      <th>151</th>\n",
       "      <td>0</td>\n",
       "      <td>2</td>\n",
       "      <td>Bateman, Rev. Robert James</td>\n",
       "      <td>male</td>\n",
       "      <td>51.0</td>\n",
       "      <td>0</td>\n",
       "      <td>0</td>\n",
       "      <td>S.O.P. 1166</td>\n",
       "      <td>12.525</td>\n",
       "      <td>¯\\(ツ)/¯</td>\n",
       "      <td>Southampton</td>\n",
       "      <td>0</td>\n",
       "      <td>0</td>\n",
       "      <td>1</td>\n",
       "      <td>0</td>\n",
       "      <td>1</td>\n",
       "      <td>0</td>\n",
       "      <td>Rev</td>\n",
       "      <td>Rev</td>\n",
       "    </tr>\n",
       "    <tr>\n",
       "      <th>250</th>\n",
       "      <td>0</td>\n",
       "      <td>2</td>\n",
       "      <td>Carter, Rev. Ernest Courtenay</td>\n",
       "      <td>male</td>\n",
       "      <td>54.0</td>\n",
       "      <td>1</td>\n",
       "      <td>0</td>\n",
       "      <td>244252</td>\n",
       "      <td>26.000</td>\n",
       "      <td>¯\\(ツ)/¯</td>\n",
       "      <td>Southampton</td>\n",
       "      <td>0</td>\n",
       "      <td>0</td>\n",
       "      <td>1</td>\n",
       "      <td>0</td>\n",
       "      <td>1</td>\n",
       "      <td>1</td>\n",
       "      <td>Rev</td>\n",
       "      <td>Rev</td>\n",
       "    </tr>\n",
       "    <tr>\n",
       "      <th>627</th>\n",
       "      <td>0</td>\n",
       "      <td>2</td>\n",
       "      <td>Kirkland, Rev. Charles Leonard</td>\n",
       "      <td>male</td>\n",
       "      <td>57.0</td>\n",
       "      <td>0</td>\n",
       "      <td>0</td>\n",
       "      <td>219533</td>\n",
       "      <td>12.350</td>\n",
       "      <td>¯\\(ツ)/¯</td>\n",
       "      <td>Queenstown</td>\n",
       "      <td>0</td>\n",
       "      <td>1</td>\n",
       "      <td>0</td>\n",
       "      <td>0</td>\n",
       "      <td>1</td>\n",
       "      <td>0</td>\n",
       "      <td>Rev</td>\n",
       "      <td>Rev</td>\n",
       "    </tr>\n",
       "    <tr>\n",
       "      <th>849</th>\n",
       "      <td>0</td>\n",
       "      <td>2</td>\n",
       "      <td>Harper, Rev. John</td>\n",
       "      <td>male</td>\n",
       "      <td>28.0</td>\n",
       "      <td>0</td>\n",
       "      <td>1</td>\n",
       "      <td>248727</td>\n",
       "      <td>33.000</td>\n",
       "      <td>¯\\(ツ)/¯</td>\n",
       "      <td>Southampton</td>\n",
       "      <td>0</td>\n",
       "      <td>0</td>\n",
       "      <td>1</td>\n",
       "      <td>0</td>\n",
       "      <td>1</td>\n",
       "      <td>1</td>\n",
       "      <td>Rev</td>\n",
       "      <td>Rev</td>\n",
       "    </tr>\n",
       "    <tr>\n",
       "      <th>887</th>\n",
       "      <td>0</td>\n",
       "      <td>2</td>\n",
       "      <td>Montvila, Rev. Juozas</td>\n",
       "      <td>male</td>\n",
       "      <td>27.0</td>\n",
       "      <td>0</td>\n",
       "      <td>0</td>\n",
       "      <td>211536</td>\n",
       "      <td>13.000</td>\n",
       "      <td>¯\\(ツ)/¯</td>\n",
       "      <td>Southampton</td>\n",
       "      <td>0</td>\n",
       "      <td>0</td>\n",
       "      <td>1</td>\n",
       "      <td>0</td>\n",
       "      <td>1</td>\n",
       "      <td>0</td>\n",
       "      <td>Rev</td>\n",
       "      <td>Rev</td>\n",
       "    </tr>\n",
       "  </tbody>\n",
       "</table>\n",
       "</div>"
      ],
      "text/plain": [
       "             Survived  Pclass                               Name   Sex   Age  \\\n",
       "PassengerId                                                                    \n",
       "150                 0       2  Byles, Rev. Thomas Roussel Davids  male  42.0   \n",
       "151                 0       2         Bateman, Rev. Robert James  male  51.0   \n",
       "250                 0       2      Carter, Rev. Ernest Courtenay  male  54.0   \n",
       "627                 0       2     Kirkland, Rev. Charles Leonard  male  57.0   \n",
       "849                 0       2                  Harper, Rev. John  male  28.0   \n",
       "887                 0       2              Montvila, Rev. Juozas  male  27.0   \n",
       "\n",
       "             SibSp  Parch       Ticket    Fare    Cabin     Embarked  \\\n",
       "PassengerId                                                            \n",
       "150              0      0       244310  13.000  ¯\\(ツ)/¯  Southampton   \n",
       "151              0      0  S.O.P. 1166  12.525  ¯\\(ツ)/¯  Southampton   \n",
       "250              1      0       244252  26.000  ¯\\(ツ)/¯  Southampton   \n",
       "627              0      0       219533  12.350  ¯\\(ツ)/¯   Queenstown   \n",
       "849              0      1       248727  33.000  ¯\\(ツ)/¯  Southampton   \n",
       "887              0      0       211536  13.000  ¯\\(ツ)/¯  Southampton   \n",
       "\n",
       "             Embarked_C  Embarked_Q  Embarked_S  Sex_F  Sex_M  Family_count  \\\n",
       "PassengerId                                                                   \n",
       "150                   0           0           1      0      1             0   \n",
       "151                   0           0           1      0      1             0   \n",
       "250                   0           0           1      0      1             1   \n",
       "627                   0           1           0      0      1             0   \n",
       "849                   0           0           1      0      1             1   \n",
       "887                   0           0           1      0      1             0   \n",
       "\n",
       "            Title  MWC  \n",
       "PassengerId             \n",
       "150           Rev  Rev  \n",
       "151           Rev  Rev  \n",
       "250           Rev  Rev  \n",
       "627           Rev  Rev  \n",
       "849           Rev  Rev  \n",
       "887           Rev  Rev  "
      ]
     },
     "execution_count": 45,
     "metadata": {},
     "output_type": "execute_result"
    }
   ],
   "source": [
    "train_titanic[(train_titanic['Title'] == 'Rev')]"
   ]
  },
  {
   "cell_type": "markdown",
   "metadata": {},
   "source": [
    "`There were six reverend aboard and unfortunately they did not survive.` "
   ]
  },
  {
   "cell_type": "markdown",
   "metadata": {},
   "source": [
    "## 4.e. Survival Rate for Cabins Marked ¯\\(ツ)/¯"
   ]
  },
  {
   "cell_type": "code",
   "execution_count": 46,
   "metadata": {},
   "outputs": [
    {
     "name": "stdout",
     "output_type": "stream",
     "text": [
      "There are 687 cabins marked ¯\\(ツ)/¯.\n"
     ]
    }
   ],
   "source": [
    "# Calculate total number of cabins marked ¯\\(ツ)/¯\n",
    "\n",
    "cabin_sface = train_titanic['Cabin'] == '¯\\(ツ)/¯'\n",
    "psg_cab_sm = train_titanic[cabin_sface]['Cabin'].count()\n",
    "print (f'There are {psg_cab_sm} cabins marked ¯\\(ツ)/¯.')"
   ]
  },
  {
   "cell_type": "code",
   "execution_count": 47,
   "metadata": {},
   "outputs": [
    {
     "name": "stdout",
     "output_type": "stream",
     "text": [
      "There are 206 survived in cabn ¯\\(ツ)/¯.\n"
     ]
    }
   ],
   "source": [
    "#Calculating the total Survivors\n",
    "\n",
    "psg_cab_sm_surv = train_titanic[cabin_sface]['Survived'].sum()\n",
    "print(f'There are {psg_cab_sm_surv} survived in cabn ¯\\(ツ)/¯.')"
   ]
  },
  {
   "cell_type": "code",
   "execution_count": 48,
   "metadata": {},
   "outputs": [
    {
     "name": "stdout",
     "output_type": "stream",
     "text": [
      "The survival rate for cabins marked ¯\\(ツ)/¯ is 30.0%.\n"
     ]
    }
   ],
   "source": [
    "#Identifying the Survival rate for cabins mark ¯\\(ツ)/¯\n",
    "psg_cab_sm_surv_rate = psg_cab_sm_surv / psg_cab_sm\n",
    "print(f'The survival rate for cabins marked ¯\\(ツ)/¯ is {round(psg_cab_sm_surv_rate * 100, 1)}%.')"
   ]
  },
  {
   "cell_type": "code",
   "execution_count": 49,
   "metadata": {},
   "outputs": [
    {
     "data": {
      "text/plain": [
       "¯    687\n",
       "C     59\n",
       "B     47\n",
       "D     33\n",
       "E     32\n",
       "A     15\n",
       "F     13\n",
       "G      4\n",
       "T      1\n",
       "Name: Cabin, dtype: int64"
      ]
     },
     "execution_count": 49,
     "metadata": {},
     "output_type": "execute_result"
    }
   ],
   "source": [
    "#Missing values from column 'Cabin'\n",
    "train_titanic['Cabin'].map(lambda x: 'missing' if str(x) == 'nan' else x[0] ).value_counts()"
   ]
  },
  {
   "cell_type": "markdown",
   "metadata": {},
   "source": [
    "There is significance with this information which identifies that not every passenger got a cabin also some of the passengers could have stayed with groups versus indivial cabins.  \n",
    "\n",
    "This also begs to question classes and the appropriate placement of the classes, also the significance of the passengers who were not provided a cabin could that have been a factor in survival. "
   ]
  },
  {
   "cell_type": "markdown",
   "metadata": {},
   "source": [
    "## 4.f.  Survival Rate for Passenger Whose Age is Empty"
   ]
  },
  {
   "cell_type": "code",
   "execution_count": 50,
   "metadata": {},
   "outputs": [
    {
     "name": "stdout",
     "output_type": "stream",
     "text": [
      "There are 177 passengers with unknown age.\n"
     ]
    }
   ],
   "source": [
    "#the number of passengers with unknown age\n",
    "empty_age = train_titanic['Age'].isna()\n",
    "psg_age = train_titanic[empty_age].shape[0]\n",
    "print(f'There are {psg_age} passengers with unknown age.')"
   ]
  },
  {
   "cell_type": "code",
   "execution_count": 51,
   "metadata": {},
   "outputs": [
    {
     "name": "stdout",
     "output_type": "stream",
     "text": [
      "There are 52 survivors with unknown age.\n"
     ]
    }
   ],
   "source": [
    "# The number of survivors with unknown age\n",
    "psg_age_surv = train_titanic[empty_age]['Survived'].sum()\n",
    "print(f'There are {psg_age_surv} survivors with unknown age.')"
   ]
  },
  {
   "cell_type": "code",
   "execution_count": 52,
   "metadata": {},
   "outputs": [
    {
     "name": "stdout",
     "output_type": "stream",
     "text": [
      "The survival rate for people whose Age is empty is 29.4%.\n"
     ]
    }
   ],
   "source": [
    "#the survival rate for people whose Age is empty\n",
    "psg_age_surv_rate = psg_age_surv / psg_age\n",
    "print(f'The survival rate for people whose Age is empty is {round(psg_age_surv_rate * 100, 1)}%.')"
   ]
  },
  {
   "cell_type": "code",
   "execution_count": 53,
   "metadata": {},
   "outputs": [
    {
     "name": "stdout",
     "output_type": "stream",
     "text": [
      "Age    Survived\n",
      "0.42   1           1\n",
      "0.67   1           1\n",
      "0.75   1           2\n",
      "0.83   1           2\n",
      "0.92   1           1\n",
      "                  ..\n",
      "70.00  0           2\n",
      "70.50  0           1\n",
      "71.00  0           2\n",
      "74.00  0           1\n",
      "80.00  1           1\n",
      "Name: Survived, Length: 142, dtype: int64\n"
     ]
    }
   ],
   "source": [
    "#Comparison of the Age column and the Survival\n",
    "print (train_titanic.groupby([\"Age\"])['Survived'].value_counts(normalize = False))"
   ]
  },
  {
   "cell_type": "markdown",
   "metadata": {},
   "source": [
    "`The survival rate for people whose Age is empty is 29.4%.`\n",
    "\n",
    "The age and survival columns would identify the rate of survival of passengers based on age, which tells us that if the passenger was over a certain age they did not survive. This indicated the assumption of survival of women and children which would be seen in previous calculations. "
   ]
  },
  {
   "cell_type": "markdown",
   "metadata": {},
   "source": [
    "## 4.g.  Survival Rate for Each Port of Embarkation"
   ]
  },
  {
   "cell_type": "code",
   "execution_count": 54,
   "metadata": {},
   "outputs": [
    {
     "name": "stdout",
     "output_type": "stream",
     "text": [
      "Number of passengers by Embark locations:       \n",
      "Embarked\n",
      "Cherbourg      168\n",
      "Queenstown      77\n",
      "Southampton    646\n",
      "Name: Embarked, dtype: int64\n"
     ]
    }
   ],
   "source": [
    "# Number of passengers who embarked from the three different ports\n",
    "psg_embk = train_titanic.groupby('Embarked')['Embarked'].agg('count')\n",
    "print(f'Number of passengers by Embark locations: \\\n",
    "      \\n{psg_embk}')"
   ]
  },
  {
   "cell_type": "code",
   "execution_count": 55,
   "metadata": {},
   "outputs": [
    {
     "name": "stdout",
     "output_type": "stream",
     "text": [
      "Number of survivors by Embark locations:       \n",
      "Embarked\n",
      "Cherbourg       93\n",
      "Queenstown      30\n",
      "Southampton    219\n",
      "Name: Survived, dtype: int64\n"
     ]
    }
   ],
   "source": [
    "# The number of survivors by Embark Locations\n",
    "psg_embk_surv = train_titanic.groupby('Embarked')['Survived'].agg('sum')\n",
    "print(f'Number of survivors by Embark locations: \\\n",
    "      \\n{psg_embk_surv}')"
   ]
  },
  {
   "cell_type": "code",
   "execution_count": 56,
   "metadata": {},
   "outputs": [
    {
     "name": "stdout",
     "output_type": "stream",
     "text": [
      "Survival rate by Embark locations:       \n",
      "Embarked\n",
      "Cherbourg      0.553571\n",
      "Queenstown     0.389610\n",
      "Southampton    0.339009\n",
      "dtype: float64\n"
     ]
    }
   ],
   "source": [
    "# The survival rate by Embark Locations\n",
    "psg_embk_surv_rate = psg_embk_surv / psg_embk\n",
    "print(f'Survival rate by Embark locations: \\\n",
    "      \\n{psg_embk_surv_rate}')"
   ]
  },
  {
   "cell_type": "code",
   "execution_count": 57,
   "metadata": {},
   "outputs": [
    {
     "data": {
      "text/html": [
       "<div>\n",
       "<style scoped>\n",
       "    .dataframe tbody tr th:only-of-type {\n",
       "        vertical-align: middle;\n",
       "    }\n",
       "\n",
       "    .dataframe tbody tr th {\n",
       "        vertical-align: top;\n",
       "    }\n",
       "\n",
       "    .dataframe thead th {\n",
       "        text-align: right;\n",
       "    }\n",
       "</style>\n",
       "<table border=\"1\" class=\"dataframe\">\n",
       "  <thead>\n",
       "    <tr style=\"text-align: right;\">\n",
       "      <th></th>\n",
       "      <th>Embarked</th>\n",
       "      <th>Passenger</th>\n",
       "      <th>Survivor</th>\n",
       "      <th>Survival_Rate</th>\n",
       "    </tr>\n",
       "  </thead>\n",
       "  <tbody>\n",
       "    <tr>\n",
       "      <th>0</th>\n",
       "      <td>Cherbourg</td>\n",
       "      <td>168</td>\n",
       "      <td>93</td>\n",
       "      <td>0.553571</td>\n",
       "    </tr>\n",
       "    <tr>\n",
       "      <th>1</th>\n",
       "      <td>Queenstown</td>\n",
       "      <td>77</td>\n",
       "      <td>30</td>\n",
       "      <td>0.389610</td>\n",
       "    </tr>\n",
       "    <tr>\n",
       "      <th>2</th>\n",
       "      <td>Southampton</td>\n",
       "      <td>646</td>\n",
       "      <td>219</td>\n",
       "      <td>0.339009</td>\n",
       "    </tr>\n",
       "  </tbody>\n",
       "</table>\n",
       "</div>"
      ],
      "text/plain": [
       "      Embarked  Passenger  Survivor  Survival_Rate\n",
       "0    Cherbourg        168        93       0.553571\n",
       "1   Queenstown         77        30       0.389610\n",
       "2  Southampton        646       219       0.339009"
      ]
     },
     "execution_count": 57,
     "metadata": {},
     "output_type": "execute_result"
    }
   ],
   "source": [
    "#Survival rate for each port of embarkation\n",
    "\n",
    "df_psg_embk = pd.DataFrame(dict(Passenger = psg_embk, \n",
    "                              Survivor = psg_embk_surv,\n",
    "                              Survival_Rate = psg_embk_surv_rate)).reset_index()\n",
    "df_psg_embk"
   ]
  },
  {
   "cell_type": "markdown",
   "metadata": {},
   "source": [
    "It can be deduced that passengers who embarked from \"Cherbough\" had a greater chance of survival. This however does not indicate why that might be,, the sample data provided does not provided a route of embarking which would play significant president on the findings. The loation or the point of embarking shows that potencial survival of the passengers as well as potencially indicates the psychy of other casualties. (Assumption: Closer the passengers are to the palce of embarking is the likelihood of them trying to survive.)"
   ]
  },
  {
   "cell_type": "markdown",
   "metadata": {},
   "source": [
    " ## 4.h. Survival Rate for Children (under 12) in each Pclass"
   ]
  },
  {
   "cell_type": "code",
   "execution_count": 58,
   "metadata": {},
   "outputs": [
    {
     "name": "stdout",
     "output_type": "stream",
     "text": [
      "Number of children in each Pclass is       \n",
      "Pclass\n",
      "1     4\n",
      "2    17\n",
      "3    47\n",
      "Name: Pclass, dtype: int64.\n"
     ]
    }
   ],
   "source": [
    "# Number of childrens in each Pclass\n",
    "child = train_titanic['Age'] < 12\n",
    "psg_pclass_ch = train_titanic[child].groupby('Pclass')['Pclass'].agg('count')\n",
    "print(f'Number of children in each Pclass is \\\n",
    "      \\n{psg_pclass_ch}.')"
   ]
  },
  {
   "cell_type": "code",
   "execution_count": 59,
   "metadata": {},
   "outputs": [
    {
     "name": "stdout",
     "output_type": "stream",
     "text": [
      "Number of children survived in each Pclass is       \n",
      "Pclass\n",
      "1     3\n",
      "2    17\n",
      "3    19\n",
      "Name: Survived, dtype: int64.\n"
     ]
    }
   ],
   "source": [
    "# Number of childrens survived in each Pclass\n",
    "psg_pclass_ch_surv = train_titanic[child].groupby('Pclass')['Survived'].agg('sum')\n",
    "print(f'Number of children survived in each Pclass is \\\n",
    "      \\n{psg_pclass_ch_surv}.')"
   ]
  },
  {
   "cell_type": "code",
   "execution_count": 60,
   "metadata": {},
   "outputs": [
    {
     "name": "stdout",
     "output_type": "stream",
     "text": [
      "Survival rate for children in each Pclass:       \n",
      "Pclass\n",
      "1    0.750000\n",
      "2    1.000000\n",
      "3    0.404255\n",
      "dtype: float64\n"
     ]
    }
   ],
   "source": [
    "# Survival rate for children in each Pclass\n",
    "psg_pclass_ch_surv_rate = psg_pclass_ch_surv / psg_pclass_ch\n",
    "print(f'Survival rate for children in each Pclass: \\\n",
    "      \\n{psg_pclass_ch_surv_rate}')"
   ]
  },
  {
   "cell_type": "code",
   "execution_count": 61,
   "metadata": {},
   "outputs": [
    {
     "data": {
      "text/html": [
       "<div>\n",
       "<style scoped>\n",
       "    .dataframe tbody tr th:only-of-type {\n",
       "        vertical-align: middle;\n",
       "    }\n",
       "\n",
       "    .dataframe tbody tr th {\n",
       "        vertical-align: top;\n",
       "    }\n",
       "\n",
       "    .dataframe thead th {\n",
       "        text-align: right;\n",
       "    }\n",
       "</style>\n",
       "<table border=\"1\" class=\"dataframe\">\n",
       "  <thead>\n",
       "    <tr style=\"text-align: right;\">\n",
       "      <th></th>\n",
       "      <th>Pclass</th>\n",
       "      <th>Children</th>\n",
       "      <th>Survivied</th>\n",
       "      <th>Survival_Rate</th>\n",
       "    </tr>\n",
       "  </thead>\n",
       "  <tbody>\n",
       "    <tr>\n",
       "      <th>0</th>\n",
       "      <td>1</td>\n",
       "      <td>4</td>\n",
       "      <td>3</td>\n",
       "      <td>0.750000</td>\n",
       "    </tr>\n",
       "    <tr>\n",
       "      <th>1</th>\n",
       "      <td>2</td>\n",
       "      <td>17</td>\n",
       "      <td>17</td>\n",
       "      <td>1.000000</td>\n",
       "    </tr>\n",
       "    <tr>\n",
       "      <th>2</th>\n",
       "      <td>3</td>\n",
       "      <td>47</td>\n",
       "      <td>19</td>\n",
       "      <td>0.404255</td>\n",
       "    </tr>\n",
       "  </tbody>\n",
       "</table>\n",
       "</div>"
      ],
      "text/plain": [
       "   Pclass  Children  Survivied  Survival_Rate\n",
       "0       1         4          3       0.750000\n",
       "1       2        17         17       1.000000\n",
       "2       3        47         19       0.404255"
      ]
     },
     "execution_count": 61,
     "metadata": {},
     "output_type": "execute_result"
    }
   ],
   "source": [
    "df_pclass_ch = pd.DataFrame(dict(Children = psg_pclass_ch, \n",
    "                                 Survivied = psg_pclass_ch_surv, \n",
    "                                 Survival_Rate = psg_pclass_ch_surv_rate)).reset_index()\n",
    "df_pclass_ch"
   ]
  },
  {
   "cell_type": "markdown",
   "metadata": {},
   "source": [
    "## 4.i. Did the Captain of The Ship Survive? Is he on the list?"
   ]
  },
  {
   "cell_type": "code",
   "execution_count": 62,
   "metadata": {},
   "outputs": [
    {
     "data": {
      "text/html": [
       "<div>\n",
       "<style scoped>\n",
       "    .dataframe tbody tr th:only-of-type {\n",
       "        vertical-align: middle;\n",
       "    }\n",
       "\n",
       "    .dataframe tbody tr th {\n",
       "        vertical-align: top;\n",
       "    }\n",
       "\n",
       "    .dataframe thead th {\n",
       "        text-align: right;\n",
       "    }\n",
       "</style>\n",
       "<table border=\"1\" class=\"dataframe\">\n",
       "  <thead>\n",
       "    <tr style=\"text-align: right;\">\n",
       "      <th></th>\n",
       "      <th>Survived</th>\n",
       "      <th>Name</th>\n",
       "      <th>Sex</th>\n",
       "      <th>Age</th>\n",
       "    </tr>\n",
       "    <tr>\n",
       "      <th>PassengerId</th>\n",
       "      <th></th>\n",
       "      <th></th>\n",
       "      <th></th>\n",
       "      <th></th>\n",
       "    </tr>\n",
       "  </thead>\n",
       "  <tbody>\n",
       "    <tr>\n",
       "      <th>746</th>\n",
       "      <td>0</td>\n",
       "      <td>Crosby, Capt. Edward Gifford</td>\n",
       "      <td>male</td>\n",
       "      <td>70.0</td>\n",
       "    </tr>\n",
       "  </tbody>\n",
       "</table>\n",
       "</div>"
      ],
      "text/plain": [
       "             Survived                          Name   Sex   Age\n",
       "PassengerId                                                    \n",
       "746                 0  Crosby, Capt. Edward Gifford  male  70.0"
      ]
     },
     "execution_count": 62,
     "metadata": {},
     "output_type": "execute_result"
    }
   ],
   "source": [
    "#Finding the passenger whose Title is Capt\n",
    "train_titanic[(train_titanic['Title'] == 'Capt')][['Survived','Name','Sex','Age']]"
   ]
  },
  {
   "cell_type": "markdown",
   "metadata": {},
   "source": [
    "## 10. Passenger that died, who had the most expensive ticket? How much did it cost"
   ]
  },
  {
   "cell_type": "code",
   "execution_count": 63,
   "metadata": {},
   "outputs": [
    {
     "data": {
      "text/html": [
       "<div>\n",
       "<style scoped>\n",
       "    .dataframe tbody tr th:only-of-type {\n",
       "        vertical-align: middle;\n",
       "    }\n",
       "\n",
       "    .dataframe tbody tr th {\n",
       "        vertical-align: top;\n",
       "    }\n",
       "\n",
       "    .dataframe thead th {\n",
       "        text-align: right;\n",
       "    }\n",
       "</style>\n",
       "<table border=\"1\" class=\"dataframe\">\n",
       "  <thead>\n",
       "    <tr style=\"text-align: right;\">\n",
       "      <th></th>\n",
       "      <th>Pclass</th>\n",
       "      <th>Name</th>\n",
       "      <th>Sex</th>\n",
       "      <th>Age</th>\n",
       "      <th>Fare</th>\n",
       "    </tr>\n",
       "    <tr>\n",
       "      <th>PassengerId</th>\n",
       "      <th></th>\n",
       "      <th></th>\n",
       "      <th></th>\n",
       "      <th></th>\n",
       "      <th></th>\n",
       "    </tr>\n",
       "  </thead>\n",
       "  <tbody>\n",
       "    <tr>\n",
       "      <th>28</th>\n",
       "      <td>1</td>\n",
       "      <td>Fortune, Mr. Charles Alexander</td>\n",
       "      <td>male</td>\n",
       "      <td>19.0</td>\n",
       "      <td>263.0000</td>\n",
       "    </tr>\n",
       "    <tr>\n",
       "      <th>439</th>\n",
       "      <td>1</td>\n",
       "      <td>Fortune, Mr. Mark</td>\n",
       "      <td>male</td>\n",
       "      <td>64.0</td>\n",
       "      <td>263.0000</td>\n",
       "    </tr>\n",
       "    <tr>\n",
       "      <th>119</th>\n",
       "      <td>1</td>\n",
       "      <td>Baxter, Mr. Quigg Edmond</td>\n",
       "      <td>male</td>\n",
       "      <td>24.0</td>\n",
       "      <td>247.5208</td>\n",
       "    </tr>\n",
       "    <tr>\n",
       "      <th>558</th>\n",
       "      <td>1</td>\n",
       "      <td>Robbins, Mr. Victor</td>\n",
       "      <td>male</td>\n",
       "      <td>NaN</td>\n",
       "      <td>227.5250</td>\n",
       "    </tr>\n",
       "    <tr>\n",
       "      <th>528</th>\n",
       "      <td>1</td>\n",
       "      <td>Farthing, Mr. John</td>\n",
       "      <td>male</td>\n",
       "      <td>NaN</td>\n",
       "      <td>221.7792</td>\n",
       "    </tr>\n",
       "  </tbody>\n",
       "</table>\n",
       "</div>"
      ],
      "text/plain": [
       "             Pclass                            Name   Sex   Age      Fare\n",
       "PassengerId                                                              \n",
       "28                1  Fortune, Mr. Charles Alexander  male  19.0  263.0000\n",
       "439               1               Fortune, Mr. Mark  male  64.0  263.0000\n",
       "119               1        Baxter, Mr. Quigg Edmond  male  24.0  247.5208\n",
       "558               1             Robbins, Mr. Victor  male   NaN  227.5250\n",
       "528               1              Farthing, Mr. John  male   NaN  221.7792"
      ]
     },
     "execution_count": 63,
     "metadata": {},
     "output_type": "execute_result"
    }
   ],
   "source": [
    "vict = train_titanic['Survived'] == 0\n",
    "psg_died_fare = train_titanic[vict][['Pclass','Name','Sex','Age','Fare']].sort_values(by = 'Fare', ascending = False)\n",
    "psg_died_fare.head()"
   ]
  },
  {
   "cell_type": "markdown",
   "metadata": {},
   "source": [
    ">`Mr. Charles Alexander Fortune (19) and Mr. Mark Fortune (64) both paid 263 pounds (1st Class) for the tickets. Neither of them survived.`"
   ]
  },
  {
   "cell_type": "markdown",
   "metadata": {},
   "source": [
    "## 4.k. Does having family on the boat help or hurt your chances of survival?"
   ]
  },
  {
   "cell_type": "code",
   "execution_count": 64,
   "metadata": {},
   "outputs": [
    {
     "name": "stdout",
     "output_type": "stream",
     "text": [
      "There are 354 passengers traveled with family members.\n"
     ]
    }
   ],
   "source": [
    "# Number of passengers traveling with family members\n",
    "family = train_titanic['Family_count'] > 0\n",
    "psg_family = train_titanic[family]['Family_count'].count()\n",
    "print(f'There are {psg_family} passengers traveled with family members.')"
   ]
  },
  {
   "cell_type": "code",
   "execution_count": 65,
   "metadata": {},
   "outputs": [
    {
     "name": "stdout",
     "output_type": "stream",
     "text": [
      "There are 179 survivors traveled with family members.\n"
     ]
    }
   ],
   "source": [
    "# Survivors traveling with family members\n",
    "psg_family_surv = train_titanic[family]['Survived'].sum()\n",
    "print(f'There are {psg_family_surv} survivors traveled with family members.')"
   ]
  },
  {
   "cell_type": "code",
   "execution_count": 71,
   "metadata": {},
   "outputs": [
    {
     "name": "stdout",
     "output_type": "stream",
     "text": [
      "The survival rate for passengers traveling with family member is 0.1%.\n"
     ]
    }
   ],
   "source": [
    "# Survival rate for passengers traveling with family members\n",
    "psg_family_surv_rate = psg_family_surv / psg_family\n",
    "print(f'The survival rate for passengers traveling with family member is {round(psg_family_surv_rate * 100, 1)}%.')"
   ]
  },
  {
   "cell_type": "markdown",
   "metadata": {},
   "source": [
    "`Survival rate for passengers traveling with family members is 50.6%. Much higher than the overall survival rate of 38.2%.`"
   ]
  },
  {
   "cell_type": "markdown",
   "metadata": {},
   "source": [
    "## Step 5. Plotting\n",
    "\n",
    "\n",
    "Observation #1: Female passengers at all age for Class 1 and 2 have relatively higher survival rates. For Class 3, the survival rate drops.\n",
    "\n",
    "Observation #2: Male passengers generally have lower survival rate than females. Within male passengers, class 1 and class 2 passengers have relatively higher survival rate than class 3 male passengers. Younger passengers have higher survival rates than elder passengers cross all classes.\n",
    "\n",
    "Family Count could be another potential test but the sample."
   ]
  },
  {
   "cell_type": "code",
   "execution_count": 72,
   "metadata": {},
   "outputs": [
    {
     "data": {
      "image/png": "[encoded data removed]",
      "text/plain": [
       "<Figure size 1080x1080 with 2 Axes>"
      ]
     },
     "metadata": {
      "needs_background": "light"
     },
     "output_type": "display_data"
    }
   ],
   "source": [
    "# For multivariate data analysis I've used pandas \"correlation matrix\" . You can also use seaborn \"heatmap\".\n",
    "def plotting_corr( train_titanic , size = 15):\n",
    "    corr = train_titanic.corr()\n",
    "    fig , ax = plt.subplots(figsize = (size,size))\n",
    "    cax = ax.matshow(corr)\n",
    "    fig.colorbar(cax, fraction=0.046, pad=0.04)\n",
    "    plt.title('Titanic Dataset Correlation' , fontsize=32)\n",
    "    plt.xticks(range(len(corr.columns)) , corr.columns);\n",
    "    plt.yticks(range(len(corr.columns)) , corr.columns);\n",
    "\n",
    "plotting_corr(train_titanic, size = 15)"
   ]
  },
  {
   "cell_type": "code",
   "execution_count": 73,
   "metadata": {},
   "outputs": [
    {
     "data": {
      "text/html": [
       "<div>\n",
       "<style scoped>\n",
       "    .dataframe tbody tr th:only-of-type {\n",
       "        vertical-align: middle;\n",
       "    }\n",
       "\n",
       "    .dataframe tbody tr th {\n",
       "        vertical-align: top;\n",
       "    }\n",
       "\n",
       "    .dataframe thead th {\n",
       "        text-align: right;\n",
       "    }\n",
       "</style>\n",
       "<table border=\"1\" class=\"dataframe\">\n",
       "  <thead>\n",
       "    <tr style=\"text-align: right;\">\n",
       "      <th></th>\n",
       "      <th>Age</th>\n",
       "      <th>Pclass</th>\n",
       "      <th>Sex</th>\n",
       "      <th>sum</th>\n",
       "      <th>count</th>\n",
       "      <th>surv_by_age</th>\n",
       "    </tr>\n",
       "  </thead>\n",
       "  <tbody>\n",
       "    <tr>\n",
       "      <th>278</th>\n",
       "      <td>70.0</td>\n",
       "      <td>2</td>\n",
       "      <td>male</td>\n",
       "      <td>0</td>\n",
       "      <td>1</td>\n",
       "      <td>0.0</td>\n",
       "    </tr>\n",
       "    <tr>\n",
       "      <th>279</th>\n",
       "      <td>70.5</td>\n",
       "      <td>3</td>\n",
       "      <td>male</td>\n",
       "      <td>0</td>\n",
       "      <td>1</td>\n",
       "      <td>0.0</td>\n",
       "    </tr>\n",
       "    <tr>\n",
       "      <th>280</th>\n",
       "      <td>71.0</td>\n",
       "      <td>1</td>\n",
       "      <td>male</td>\n",
       "      <td>0</td>\n",
       "      <td>2</td>\n",
       "      <td>0.0</td>\n",
       "    </tr>\n",
       "    <tr>\n",
       "      <th>281</th>\n",
       "      <td>74.0</td>\n",
       "      <td>3</td>\n",
       "      <td>male</td>\n",
       "      <td>0</td>\n",
       "      <td>1</td>\n",
       "      <td>0.0</td>\n",
       "    </tr>\n",
       "    <tr>\n",
       "      <th>282</th>\n",
       "      <td>80.0</td>\n",
       "      <td>1</td>\n",
       "      <td>male</td>\n",
       "      <td>1</td>\n",
       "      <td>1</td>\n",
       "      <td>1.0</td>\n",
       "    </tr>\n",
       "  </tbody>\n",
       "</table>\n",
       "</div>"
      ],
      "text/plain": [
       "      Age  Pclass   Sex  sum  count  surv_by_age\n",
       "278  70.0       2  male    0      1          0.0\n",
       "279  70.5       3  male    0      1          0.0\n",
       "280  71.0       1  male    0      2          0.0\n",
       "281  74.0       3  male    0      1          0.0\n",
       "282  80.0       1  male    1      1          1.0"
      ]
     },
     "execution_count": 73,
     "metadata": {},
     "output_type": "execute_result"
    }
   ],
   "source": [
    "# Prepare DataFrame\n",
    "df_age = train_titanic.groupby(['Age','Pclass','Sex'])['Survived'].agg(['sum','count']).reset_index()\n",
    "df_age['surv_by_age'] = df_age['sum'] / df_age['count']\n",
    "df_age.tail()"
   ]
  },
  {
   "cell_type": "code",
   "execution_count": 74,
   "metadata": {},
   "outputs": [
    {
     "data": {
      "image/png": "[encoded data removed]",
      "text/plain": [
       "<Figure size 1152x576 with 1 Axes>"
      ]
     },
     "metadata": {
      "needs_background": "light"
     },
     "output_type": "display_data"
    }
   ],
   "source": [
    "plt.figure(figsize = (16,8))\n",
    "plt.title(\"TItanic: Survival Rate by Age of All Passengers\", size = 15)\n",
    "sns.set_style('whitegrid')\n",
    "sns.set_context('talk')\n",
    "sns.scatterplot(x = 'Age', y = 'surv_by_age', hue='Sex', style='Pclass', data=df_age)\n",
    "plt.tight_layout;"
   ]
  },
  {
   "cell_type": "code",
   "execution_count": 75,
   "metadata": {},
   "outputs": [
    {
     "data": {
      "image/png": "[encoded data removed]",
      "text/plain": [
       "<Figure size 1405.15x864 with 6 Axes>"
      ]
     },
     "metadata": {},
     "output_type": "display_data"
    }
   ],
   "source": [
    "sns.set_style('whitegrid')\n",
    "sns.set_context('talk')\n",
    "g = sns.FacetGrid(df_age, col=\"Pclass\", row='Sex', hue='Sex', \n",
    "                  margin_titles = True, height=6)\n",
    "g.map(sns.scatterplot, 'Age', 'surv_by_age')\n",
    "g.add_legend();"
   ]
  },
  {
   "cell_type": "markdown",
   "metadata": {},
   "source": [
    "### Univariate Data Analysis"
   ]
  },
  {
   "cell_type": "code",
   "execution_count": 76,
   "metadata": {},
   "outputs": [
    {
     "data": {
      "image/png": "[encoded data removed]",
      "text/plain": [
       "<Figure size 1440x1152 with 8 Axes>"
      ]
     },
     "metadata": {},
     "output_type": "display_data"
    }
   ],
   "source": [
    "fig , axes = plt.subplots(2, 4, figsize = (20,16) )\n",
    "sns.countplot('Survived' , data = train_titanic, ax = axes[0,0])\n",
    "sns.countplot('Pclass' , data = train_titanic, ax = axes[0,1])\n",
    "sns.countplot('Sex' , data = train_titanic, ax = axes[0,2])\n",
    "sns.countplot('SibSp' , data = train_titanic, ax = axes[0,3])\n",
    "sns.countplot('Parch' , data = train_titanic, ax = axes[1,0])\n",
    "sns.countplot('Embarked' , data = train_titanic, ax = axes[1,1])\n",
    "sns.distplot(train_titanic['Fare'] , kde = True , ax = axes[1,2])\n",
    "sns.distplot(train_titanic['Age'].dropna() , kde = True , ax = axes[1,3]);"
   ]
  },
  {
   "cell_type": "markdown",
   "metadata": {},
   "source": [
    "## Bivariate Data Analysis"
   ]
  },
  {
   "cell_type": "code",
   "execution_count": 77,
   "metadata": {},
   "outputs": [
    {
     "data": {
      "image/png": "[encoded data removed]",
      "text/plain": [
       "<Figure size 720x504 with 1 Axes>"
      ]
     },
     "metadata": {},
     "output_type": "display_data"
    }
   ],
   "source": [
    "Pclass_survival = train_titanic[train_titanic.Survived == 1]\n",
    "Pclass_survival.head()\n",
    "ax = Pclass_survival.Pclass.value_counts().plot(kind='bar', figsize=(10,7),fontsize=13,color = 'blue');\n",
    "plt.xticks(np.arange(3), ['Pclass1' , 'Pclass3','Pclass2'] , rotation = 0)\n",
    "ax.set_alpha(0.8)\n",
    "ax.set_title(\" Survival Rate vs Class \", fontsize=18)\n",
    "\n",
    "# create a list to collect the plt.patches data\n",
    "totals = []\n",
    "\n",
    "# find the values and append to list\n",
    "for i in ax.patches:\n",
    "    totals.append(i.get_height())\n",
    "\n",
    "# set individual bar lables using above list\n",
    "total = sum(totals)\n",
    "\n",
    "# set individual bar lables using above list\n",
    "for i in ax.patches:\n",
    "    # get_x pulls left or right; get_height pushes up or down\n",
    "    ax.text(i.get_x()+.04, i.get_height()-8, \\\n",
    "            str(round((i.get_height()/total)*100, 2))+'%', fontsize=22,\n",
    "                color='white')"
   ]
  },
  {
   "cell_type": "code",
   "execution_count": 78,
   "metadata": {},
   "outputs": [
    {
     "data": {
      "text/plain": [
       "Text(0.5, 1, ' Histogram of Fare')"
      ]
     },
     "execution_count": 78,
     "metadata": {},
     "output_type": "execute_result"
    },
    {
     "data": {
      "image/png": "[encoded data removed]",
      "text/plain": [
       "<Figure size 432x288 with 1 Axes>"
      ]
     },
     "metadata": {},
     "output_type": "display_data"
    }
   ],
   "source": [
    "# Histogram  of Fare. \n",
    "plt.hist(train_titanic['Fare'], bins=30);\n",
    "ax.set_title(\" Histogram of Fare\", fontsize=18)"
   ]
  },
  {
   "cell_type": "code",
   "execution_count": 79,
   "metadata": {},
   "outputs": [
    {
     "data": {
      "image/png": "[encoded data removed]",
      "text/plain": [
       "<Figure size 432x288 with 1 Axes>"
      ]
     },
     "metadata": {},
     "output_type": "display_data"
    }
   ],
   "source": [
    "## Age of the passengers follows a relatively normal distribution\n",
    "sns.boxplot(train_titanic['Age'], orient ='v');"
   ]
  },
  {
   "cell_type": "code",
   "execution_count": 80,
   "metadata": {},
   "outputs": [
    {
     "data": {
      "text/plain": [
       "Text(0.5, 1, ' Histogram Show Age')"
      ]
     },
     "execution_count": 80,
     "metadata": {},
     "output_type": "execute_result"
    },
    {
     "data": {
      "image/png": "[encoded data removed]",
      "text/plain": [
       "<Figure size 432x288 with 1 Axes>"
      ]
     },
     "metadata": {},
     "output_type": "display_data"
    }
   ],
   "source": [
    "plt.hist(train_titanic['Age'].dropna(), bins=20);\n",
    "ax.set_title(\" Histogram Show Age\", fontsize=18)"
   ]
  },
  {
   "cell_type": "code",
   "execution_count": 81,
   "metadata": {},
   "outputs": [
    {
     "data": {
      "image/png": "[encoded data removed]",
      "text/plain": [
       "<Figure size 432x288 with 1 Axes>"
      ]
     },
     "metadata": {},
     "output_type": "display_data"
    }
   ],
   "source": [
    "# Titanic passneger class distribution\n",
    "sns.countplot(x='Pclass', data=train_titanic)\n",
    "plt.xlabel('Passenger Class')\n",
    "plt.ylabel('Passengers')\n",
    "plt.show()"
   ]
  },
  {
   "cell_type": "markdown",
   "metadata": {},
   "source": [
    "\n",
    "`This histogram shows how many passengers were in each class. First class and second class had about the same number of people, however third class had more than double the amount of passengers than first or second class.`\n",
    "\n",
    "`Titanic passenger class was an indicator of socio-economic status.`"
   ]
  },
  {
   "cell_type": "code",
   "execution_count": 83,
   "metadata": {},
   "outputs": [
    {
     "data": {
      "image/png": "[encoded data removed]",
      "text/plain": [
       "<Figure size 432x288 with 1 Axes>"
      ]
     },
     "metadata": {},
     "output_type": "display_data"
    }
   ],
   "source": [
    "#Plot showing distribution of men, women, and children by passenger class\n",
    "sns.countplot(x='Pclass', hue = 'Sex',data = train_titanic)\n",
    "plt.xlabel('Passengers')\n",
    "plt.ylabel('Passenger Class')\n",
    "plt.show()"
   ]
  },
  {
   "cell_type": "markdown",
   "metadata": {},
   "source": [
    "# Conclusion and Analysis of the Data\n",
    "\n",
    "The deduction gathered is that the greatest chance of surviving the titanic is dependent upon two main factors; sex and passenger class. Age also shows it could be a factor in survivorship, but only when age is simply child vs adult. There are limitatin in the this sample data set which shows not all passengers in the dataset have an Age. It would be quite convoluted and suspicious to make concrete analysis based on a passenger property that is not complete.\n",
    "\n",
    "The individuals who were more like to survive would be females and more so children who were in first class placement.\n",
    "\n",
    "\n",
    "\n",
    "\n",
    "`- First class list was a \"who's who\" of the prominent upper class. A single-person berth in first class also they enjoyed a number of amenities, including a gymnasium, a squash court, a saltwater swimming pool, electric and Turkish baths just to name a few. All first-class accommodations were equipped with telephones, heaters, special gimbal lamps that were designed not to tip over in choppy seas, table fans, and (of course) call bells for summoning the steward. This luxury offered to these individuals of wealth a better opportunity to evacuate to be more aware of any impending dangers as well be closer to the lifeboats at a moments notice.`\n",
    "\n",
    "`- Second class passesnger slept at the berths built into the wall of the cabins at two or more berths per cabins. Privacy was not a luxury for this category they all used communal bathrooms. As a result of this they were not granted the similar opportunities of evacuation as the first class.` \n",
    "\n",
    "\n",
    "`- Third class passengers were subject to cramped conjested cabins where bunk beds were provided. The availability of privacy was non existent where as for over 700 third class passengers 2 bathrooms were availble for use. This circumstance limits the chances of survival based on the conjetion as well as limited communication with the crew members.` \n",
    "\n"
   ]
  }
 ],
 "metadata": {
  "kernelspec": {
   "display_name": "Python 3",
   "language": "python",
   "name": "python3"
  },
  "language_info": {
   "codemirror_mode": {
    "name": "ipython",
    "version": 3
   },
   "file_extension": ".py",
   "mimetype": "text/x-python",
   "name": "python",
   "nbconvert_exporter": "python",
   "pygments_lexer": "ipython3",
   "version": "3.7.4"
  }
 },
 "nbformat": 4,
 "nbformat_minor": 2
}
